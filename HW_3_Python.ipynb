{
 "cells": [
  {
   "cell_type": "code",
   "execution_count": 6,
   "id": "91049c2b",
   "metadata": {},
   "outputs": [
    {
     "name": "stdout",
     "output_type": "stream",
     "text": [
      "{'f_name': 'Min Kho', 'l_name': 'Lee', 'age': 35, 'place_of birth': 'South Korea'}\n"
     ]
    }
   ],
   "source": [
    "famous = {\n",
    "    'f_name':'Min Kho',\n",
    "    'l_name':'Lee',\n",
    "    'age':35,\n",
    "    'place_of birth':'South Korea'\n",
    "}\n",
    "print(famous)"
   ]
  },
  {
   "cell_type": "code",
   "execution_count": 1,
   "id": "f2e993d4",
   "metadata": {},
   "outputs": [
    {
     "name": "stdout",
     "output_type": "stream",
     "text": [
      "{'Кайрат': 7, 'Алтын': 12, 'Самал': 5, 'Мираса': 8, 'Тлек': 13}\n"
     ]
    }
   ],
   "source": [
    "numbers = {\n",
    "    'Кайрат': 7,\n",
    "    'Алтын': 12,\n",
    "    'Самал':5,\n",
    "    'Мираса': 8,\n",
    "    'Тлек': 13\n",
    "}\n",
    "print(numbers)"
   ]
  },
  {
   "cell_type": "code",
   "execution_count": 25,
   "id": "d8bbcea2",
   "metadata": {},
   "outputs": [
    {
     "name": "stdout",
     "output_type": "stream",
     "text": [
      "{'type_of_pets': 'cat', 'owners_name': 'Samal'}\n",
      "{'type_of_pets': 'dog', 'owners_name': 'Kairat'}\n",
      "{'type_of_pets': 'horse', 'owners_name': 'kamshat'}\n"
     ]
    }
   ],
   "source": [
    "mussi ={'type_of_pets':'cat', 'owners_name': 'Samal'}\n",
    "rex ={'type_of_pets':'dog', 'owners_name': 'Kairat'}\n",
    "tony ={'type_of_pets':'horse', 'owners_name': 'Kamshat'}\n",
    "\n",
    "pets= [mussi, rex, tony]\n",
    "\n",
    "print(mussi)\n",
    "print(rex)\n",
    "print(tony)"
   ]
  },
  {
   "cell_type": "code",
   "execution_count": 15,
   "id": "287c155e",
   "metadata": {},
   "outputs": [
    {
     "name": "stdout",
     "output_type": "stream",
     "text": [
      "Gorod Parij raspolojen v strane France, chislennost naseleniye 10000000, interesnoe soorujeniye Eiffel Tower\n",
      "Gorod Rim raspolojen v strane Italy, chislennost naseleniye 5000000, interesnoe soorujeniye Coliseum\n",
      "Gorod Almaty raspolojen v strane Kazakhstan, chislennost naseleniye 2000000, interesnoe soorujeniye Medeo\n"
     ]
    }
   ],
   "source": [
    "cities  = {\n",
    "    'Париж': {\n",
    "        'Country': 'France', \n",
    "        'Population': 10000000,\n",
    "        'Fact': 'Eiffel Tower'      \n",
    "    },\n",
    "    'Рим': {\n",
    "        'Country': 'Italy', \n",
    "        'Population': 5000000,\n",
    "        'Fact': 'Coliseum' \n",
    "    },\n",
    "    \n",
    "    'Алматы': {\n",
    "        'Country': 'Kazakhstan', \n",
    "        'Population': 2000000,\n",
    "        'Fact': 'Medeo' \n",
    "    }\n",
    "}\n",
    "print(f\"Gorod Parij raspolojen v strane {cities['Париж']['Country']}, chislennost naseleniye {cities['Париж']['Population']}, interesnoe soorujeniye {cities['Париж']['Fact']}\")\n",
    "print(f\"Gorod Rim raspolojen v strane {cities['Рим']['Country']}, chislennost naseleniye {cities['Рим']['Population']}, interesnoe soorujeniye {cities['Рим']['Fact']}\")\n",
    "print(f\"Gorod Almaty raspolojen v strane {cities['Алматы']['Country']}, chislennost naseleniye {cities['Алматы']['Population']}, interesnoe soorujeniye {cities['Алматы']['Fact']}\")"
   ]
  },
  {
   "cell_type": "code",
   "execution_count": null,
   "id": "c71842f7",
   "metadata": {},
   "outputs": [],
   "source": [
    "car = input(\"Какую машину вы хотели бы взять напрокат: \")\n",
    "print(f\"Хочу взять {car} напрокат\")"
   ]
  },
  {
   "cell_type": "code",
   "execution_count": 19,
   "id": "48cbbd4f",
   "metadata": {},
   "outputs": [
    {
     "name": "stdout",
     "output_type": "stream",
     "text": [
      "На сколько мест вы хотите забронировать стол в ресторане: 8\n",
      "Cтол готов\n"
     ]
    }
   ],
   "source": [
    "table = input(\"На сколько мест вы хотите забронировать стол в ресторане: \")\n",
    "\n",
    "table = int(table)\n",
    "\n",
    "if table >8: \n",
    "    print(f\"Придется подождать\")\n",
    "else:\n",
    "    print(f\"Cтол готов\")"
   ]
  },
  {
   "cell_type": "code",
   "execution_count": 23,
   "id": "e7f729e2",
   "metadata": {},
   "outputs": [
    {
     "name": "stdout",
     "output_type": "stream",
     "text": [
      "Введите число: 10\n",
      "Число кратно 10\n"
     ]
    }
   ],
   "source": [
    "number = input(\"Введите число: \")\n",
    "\n",
    "number = int(number)\n",
    "\n",
    "if number %10 ==0:\n",
    "    print(f\"Число кратно 10\")\n",
    "else:\n",
    "    print(f\"Heт\")"
   ]
  }
 ],
 "metadata": {
  "kernelspec": {
   "display_name": "Python 3 (ipykernel)",
   "language": "python",
   "name": "python3"
  },
  "language_info": {
   "codemirror_mode": {
    "name": "ipython",
    "version": 3
   },
   "file_extension": ".py",
   "mimetype": "text/x-python",
   "name": "python",
   "nbconvert_exporter": "python",
   "pygments_lexer": "ipython3",
   "version": "3.11.3"
  }
 },
 "nbformat": 4,
 "nbformat_minor": 5
}
