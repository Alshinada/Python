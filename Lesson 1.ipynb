{
 "cells": [
  {
   "cell_type": "markdown",
   "id": "0e57f490",
   "metadata": {},
   "source": [
    "Urok 1"
   ]
  },
  {
   "cell_type": "code",
   "execution_count": 4,
   "id": "3f9d8097",
   "metadata": {},
   "outputs": [
    {
     "name": "stdout",
     "output_type": "stream",
     "text": [
      "Hello world\n"
     ]
    }
   ],
   "source": [
    "print(\"Hello world\")"
   ]
  },
  {
   "cell_type": "code",
   "execution_count": 7,
   "id": "ae970e95",
   "metadata": {},
   "outputs": [
    {
     "name": "stdout",
     "output_type": "stream",
     "text": [
      "Hello World\n",
      "  \n",
      "Hello Python\n"
     ]
    }
   ],
   "source": [
    "message = \"Hello World\"\n",
    "print(message)\n",
    "\n",
    "message = \"  \"\n",
    "print(message)\n",
    "\n",
    "message = \"Hello Python\"\n",
    "print(message)"
   ]
  },
  {
   "cell_type": "code",
   "execution_count": 14,
   "id": "8c977188",
   "metadata": {},
   "outputs": [
    {
     "name": "stdout",
     "output_type": "stream",
     "text": [
      "Irina Ivanovna\n"
     ]
    }
   ],
   "source": [
    "name = \"IRINA IVANOVNA\"\n",
    "print(name.title())"
   ]
  },
  {
   "cell_type": "code",
   "execution_count": 12,
   "id": "9e56b3a6",
   "metadata": {},
   "outputs": [
    {
     "name": "stdout",
     "output_type": "stream",
     "text": [
      "IRINA IVANOVNA\n"
     ]
    }
   ],
   "source": [
    "print(name.upper())"
   ]
  },
  {
   "cell_type": "code",
   "execution_count": 16,
   "id": "17baaa05",
   "metadata": {},
   "outputs": [
    {
     "name": "stdout",
     "output_type": "stream",
     "text": [
      "irina ivanovna\n"
     ]
    }
   ],
   "source": [
    "print(name.lower())"
   ]
  },
  {
   "cell_type": "code",
   "execution_count": 17,
   "id": "5915efe7",
   "metadata": {},
   "outputs": [
    {
     "name": "stdout",
     "output_type": "stream",
     "text": [
      "Irina Ivanovna\n"
     ]
    }
   ],
   "source": [
    "f_name = \"Irina\"\n",
    "l_name = \"Ivanovna\"\n",
    "full_name = f_name + \" \" +l_name\n",
    "print(full_name)"
   ]
  }
 ],
 "metadata": {
  "kernelspec": {
   "display_name": "Python 3 (ipykernel)",
   "language": "python",
   "name": "python3"
  },
  "language_info": {
   "codemirror_mode": {
    "name": "ipython",
    "version": 3
   },
   "file_extension": ".py",
   "mimetype": "text/x-python",
   "name": "python",
   "nbconvert_exporter": "python",
   "pygments_lexer": "ipython3",
   "version": "3.11.3"
  }
 },
 "nbformat": 4,
 "nbformat_minor": 5
}
