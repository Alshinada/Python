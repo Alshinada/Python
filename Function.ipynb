{
 "cells": [
  {
   "cell_type": "code",
   "execution_count": 4,
   "id": "b4ded3d5",
   "metadata": {},
   "outputs": [
    {
     "name": "stdout",
     "output_type": "stream",
     "text": [
      "Hello\n"
     ]
    }
   ],
   "source": [
    "def greet_user():\n",
    "    print(\"Hello\")\n",
    "    \n",
    "greet_user()"
   ]
  },
  {
   "cell_type": "code",
   "execution_count": 7,
   "id": "ee07cc42",
   "metadata": {},
   "outputs": [
    {
     "name": "stdout",
     "output_type": "stream",
     "text": [
      "Hello Kairat\n"
     ]
    }
   ],
   "source": [
    "def greet_user(username):\n",
    "    print(f\"Hello {username.title()}\")\n",
    "          \n",
    "greet_user(\"kairat\")"
   ]
  },
  {
   "cell_type": "code",
   "execution_count": 11,
   "id": "b625bea7",
   "metadata": {},
   "outputs": [
    {
     "name": "stdout",
     "output_type": "stream",
     "text": [
      "Футболист выступает за Liverpool\n",
      "В клубе Liverpool выступает Henderson\n",
      "Позиция Henderson - ЦП\n",
      "Футболист выступает за Chelsea\n",
      "В клубе Chelsea выступает Kante\n",
      "Позиция Kante - ЦОП\n"
     ]
    }
   ],
   "source": [
    "def futball(club, name, position):\n",
    "    print(f\"Футболист выступает за {club.title()}\")\n",
    "    print(f\"В клубе {club.title()} выступает {name.title()}\")\n",
    "    print(f\"Позиция {name.title()} - {position}\")\n",
    "    \n",
    "futball(\"liverpool\", \"henderson\", \"ЦП\")\n",
    "futball(\"chelsea\", \"kante\", \"ЦОП\")"
   ]
  },
  {
   "cell_type": "code",
   "execution_count": 12,
   "id": "5121e0e3",
   "metadata": {},
   "outputs": [
    {
     "name": "stdout",
     "output_type": "stream",
     "text": [
      "Футболист выступает за Liverpool\n",
      "В клубе Liverpool выступает Salah\n",
      "Позиция Salah - RW\n"
     ]
    }
   ],
   "source": [
    "futball(club = 'liverpool', name = 'Salah', position = 'RW')"
   ]
  },
  {
   "cell_type": "code",
   "execution_count": 13,
   "id": "fc183ba3",
   "metadata": {},
   "outputs": [
    {
     "name": "stdout",
     "output_type": "stream",
     "text": [
      "Футболист выступает за Manchester City\n",
      "В клубе Manchester City выступает Sterling\n",
      "Позиция Sterling - LW\n"
     ]
    }
   ],
   "source": [
    "futball(position = 'LW', club = 'manchester City', name = 'sterling')"
   ]
  },
  {
   "cell_type": "code",
   "execution_count": 16,
   "id": "0bc4ccb0",
   "metadata": {},
   "outputs": [
    {
     "name": "stdout",
     "output_type": "stream",
     "text": [
      "Футболист выступает за Liverpool\n",
      "В клубе Liverpool выступает Gomez\n",
      "Позиция Gomez - CD\n",
      "Футболист выступает за Tottenhem\n",
      "В клубе Tottenhem выступает Kane\n",
      "Позиция Kane - SF\n"
     ]
    }
   ],
   "source": [
    "def futball(name, position, club = 'liverpool'):\n",
    "    print(f\"Футболист выступает за {club.title()}\")\n",
    "    print(f\"В клубе {club.title()} выступает {name.title()}\")\n",
    "    print(f\"Позиция {name.title()} - {position}\")\n",
    "    \n",
    "futball(\"Gomez\", \"CD\")\n",
    "futball(\"kane\", \"SF\", \"Tottenhem\")"
   ]
  },
  {
   "cell_type": "code",
   "execution_count": 17,
   "id": "1cfd619b",
   "metadata": {},
   "outputs": [
    {
     "name": "stdout",
     "output_type": "stream",
     "text": [
      "Футболист выступает за Liverpool\n",
      "В клубе Liverpool выступает Alisson\n",
      "Позиция Alisson - GK\n",
      "Футболист выступает за Milan\n",
      "В клубе Milan выступает Girrard\n",
      "Позиция Girrard - SF\n"
     ]
    }
   ],
   "source": [
    "futball(name = 'Alisson', position = 'GK')\n",
    "futball(name = 'Girrard', position = 'SF', club = 'Milan')"
   ]
  },
  {
   "cell_type": "code",
   "execution_count": 28,
   "id": "260c04d1",
   "metadata": {},
   "outputs": [
    {
     "name": "stdout",
     "output_type": "stream",
     "text": [
      "Kairat Esenov\n"
     ]
    }
   ],
   "source": [
    "def get_full_name(f_name, l_name):\n",
    "    full_name = f\"{f_name} {l_name}\"\n",
    "    return full_name.title()\n",
    "\n",
    "return_full_name = get_full_name('kairat', 'esenov')\n",
    "print(return_full_name)"
   ]
  },
  {
   "cell_type": "code",
   "execution_count": 2,
   "id": "666523d1",
   "metadata": {},
   "outputs": [
    {
     "name": "stdout",
     "output_type": "stream",
     "text": [
      "{'first': 'samat', 'last': 'omarov'}\n"
     ]
    }
   ],
   "source": [
    "def build_person(f_name, l_name):\n",
    "    person = {'first': f_name, 'last': l_name}\n",
    "    return person\n",
    "\n",
    "return_build_person = build_person(\"samat\", \"omarov\")\n",
    "print(return_build_person)"
   ]
  },
  {
   "cell_type": "code",
   "execution_count": 33,
   "id": "931cad53",
   "metadata": {},
   "outputs": [
    {
     "name": "stdout",
     "output_type": "stream",
     "text": [
      "Введите свое имя и фамилию: \n",
      "Имя: ahvhx\n",
      "Фамилия: ahvhav\n",
      "Привет Ahvhx Ahvhav\n",
      "Введите свое имя и фамилию: \n",
      "Имя: axjaxja\n",
      "Фамилия: akbha\n",
      "Привет Axjaxja Akbha\n",
      "Введите свое имя и фамилию: \n",
      "Имя: quit\n"
     ]
    }
   ],
   "source": [
    "def get_full_name(first_name, last_name):\n",
    "    full_name = f\"{first_name} {last_name}\"\n",
    "    return full_name.title()\n",
    "\n",
    "while True:\n",
    "    print(\"Введите свое имя и фамилию: \")\n",
    "    f_name = input(\"Имя: \")\n",
    "    if f_name == 'quit':\n",
    "        break\n",
    "    \n",
    "    l_name = input(\"Фамилия: \")\n",
    "    if l_name == 'quit':\n",
    "        break \n",
    "    \n",
    "    full_name = get_full_name(f_name, l_name)\n",
    "    print(f\"Привет {full_name}\")\n"
   ]
  },
  {
   "cell_type": "code",
   "execution_count": 38,
   "id": "acb65dbc",
   "metadata": {},
   "outputs": [
    {
     "name": "stdout",
     "output_type": "stream",
     "text": [
      "Kairat\n",
      "Samat\n",
      "Sultan\n"
     ]
    }
   ],
   "source": [
    "def greet_users(names):\n",
    "    for name in names:\n",
    "        print(name.title())\n",
    "        \n",
    "usernames = ['kairat', 'samat', 'sultan']\n",
    "greet_users(usernames)"
   ]
  },
  {
   "cell_type": "code",
   "execution_count": 52,
   "id": "cf39b393",
   "metadata": {},
   "outputs": [
    {
     "name": "stdout",
     "output_type": "stream",
     "text": [
      "horse\n",
      "computer\n",
      "phone\n",
      "horse\n",
      "computer\n",
      "phone\n"
     ]
    }
   ],
   "source": [
    "paints = ['phone', 'computer', 'horse']\n",
    "completed = []\n",
    "\n",
    "while paints:\n",
    "        current = paints.pop()\n",
    "        print(current)\n",
    "        completed.append(current)\n",
    "        \n",
    "for i in completed:\n",
    "    print(i)\n",
    "    "
   ]
  },
  {
   "cell_type": "code",
   "execution_count": 62,
   "id": "0ab67885",
   "metadata": {},
   "outputs": [
    {
     "name": "stdout",
     "output_type": "stream",
     "text": [
      "horse\n",
      "computer\n",
      "phone\n",
      "[]\n",
      "cup\n",
      "keyboard\n",
      "mouse\n",
      "['mouse', 'keyboard', 'cup']\n"
     ]
    }
   ],
   "source": [
    "def print_paints(paints, completed):\n",
    "    while paints:\n",
    "        current = paints.pop()\n",
    "        #print(current) \n",
    "        completed.append(current)\n",
    "\n",
    "def print_completed(completed):\n",
    "    for image in completed:\n",
    "        print(image)\n",
    "        \n",
    "        \n",
    "paints = ['phone', 'computer', 'horse']\n",
    "completed = [] \n",
    "\n",
    "print_paints(paints, completed) \n",
    "print_completed(completed)\n",
    "print(paints)\n",
    "\n",
    "paints_2 =['mouse', 'keyboard', 'cup']\n",
    "completed_2 =[]\n",
    "\n",
    "print_paints(paints_2[:], completed_2) \n",
    "print_completed(completed_2)\n",
    "print(paints_2)"
   ]
  },
  {
   "cell_type": "code",
   "execution_count": 68,
   "id": "4a650a85",
   "metadata": {},
   "outputs": [
    {
     "name": "stdout",
     "output_type": "stream",
     "text": [
      "Нам нужна пицца 21, состоит из: \n",
      "tomato\n",
      "\n",
      "Нам нужна пицца 30, состоит из: \n",
      "tomato, olive, sos\n"
     ]
    }
   ],
   "source": [
    "def make_pizza(size, *adds):\n",
    "    print(f\"Нам нужна пицца {size}, состоит из: \")\n",
    "    for add in adds:\n",
    "        print(add)\n",
    "        \n",
    "make_pizza(21, 'tomato')\n",
    "print()\n",
    "\n",
    "make_pizza(30, 'tomato, olive, sos')\n"
   ]
  },
  {
   "cell_type": "code",
   "execution_count": null,
   "id": "f5fa58c1",
   "metadata": {},
   "outputs": [],
   "source": []
  }
 ],
 "metadata": {
  "kernelspec": {
   "display_name": "Python 3 (ipykernel)",
   "language": "python",
   "name": "python3"
  },
  "language_info": {
   "codemirror_mode": {
    "name": "ipython",
    "version": 3
   },
   "file_extension": ".py",
   "mimetype": "text/x-python",
   "name": "python",
   "nbconvert_exporter": "python",
   "pygments_lexer": "ipython3",
   "version": "3.11.3"
  }
 },
 "nbformat": 4,
 "nbformat_minor": 5
}
