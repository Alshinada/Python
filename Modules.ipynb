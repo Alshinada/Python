{
 "cells": [
  {
   "cell_type": "code",
   "execution_count": 17,
   "id": "9b1a0ea3",
   "metadata": {},
   "outputs": [
    {
     "name": "stdout",
     "output_type": "stream",
     "text": [
      "bring me pizza 32, with \n",
      " - tomatos \n",
      " - mantar \n",
      " - sosis \n",
      "bring me pizza 48, with \n",
      " - biber, potato \n"
     ]
    }
   ],
   "source": [
    "import pizza\n",
    "pizza.make_pizza(32, 'tomatos', 'mantar', 'sosis')\n",
    "pizza.make_pizza(48, 'biber, potato')"
   ]
  },
  {
   "cell_type": "code",
   "execution_count": 18,
   "id": "04154c8d",
   "metadata": {},
   "outputs": [
    {
     "name": "stdout",
     "output_type": "stream",
     "text": [
      "bring me pizza 18, with \n",
      " - apple, bananas \n"
     ]
    }
   ],
   "source": [
    "from pizza import make_pizza\n",
    "make_pizza(18, \"apple, bananas\")"
   ]
  },
  {
   "cell_type": "code",
   "execution_count": 20,
   "id": "77dccc56",
   "metadata": {},
   "outputs": [
    {
     "name": "stdout",
     "output_type": "stream",
     "text": [
      "bring me pizza 24, with \n",
      " - cheese \n"
     ]
    }
   ],
   "source": [
    "from pizza import make_pizza as p\n",
    "p(24, \"cheese\")"
   ]
  },
  {
   "cell_type": "code",
   "execution_count": 21,
   "id": "0bca796b",
   "metadata": {},
   "outputs": [
    {
     "name": "stdout",
     "output_type": "stream",
     "text": [
      "bring me pizza 24, with \n",
      " - ketchup \n"
     ]
    }
   ],
   "source": [
    "from pizza import *\n",
    "make_pizza(24, \"ketchup\")"
   ]
  },
  {
   "cell_type": "code",
   "execution_count": null,
   "id": "6fe966a4",
   "metadata": {},
   "outputs": [],
   "source": [
    " Dof"
   ]
  }
 ],
 "metadata": {
  "kernelspec": {
   "display_name": "Python 3 (ipykernel)",
   "language": "python",
   "name": "python3"
  },
  "language_info": {
   "codemirror_mode": {
    "name": "ipython",
    "version": 3
   },
   "file_extension": ".py",
   "mimetype": "text/x-python",
   "name": "python",
   "nbconvert_exporter": "python",
   "pygments_lexer": "ipython3",
   "version": "3.11.3"
  }
 },
 "nbformat": 4,
 "nbformat_minor": 5
}
