{
 "cells": [
  {
   "cell_type": "code",
   "execution_count": 1,
   "id": "c3205990",
   "metadata": {},
   "outputs": [
    {
     "name": "stdout",
     "output_type": "stream",
     "text": [
      "Мою собаку зовут Barsik \n",
      "Моему собаку 2 года\n",
      "Собака с именем Barsik сейчас сидит\n",
      "Собака с именем Barsik сейчас перекатывается\n"
     ]
    }
   ],
   "source": [
    "class Dog():\n",
    "    def __init__(self, name, age):\n",
    "        self.name = name\n",
    "        self.age = age\n",
    "        \n",
    "    def sit(self):\n",
    "        print(f\"Собака с именем {self.name} сейчас сидит\")\n",
    "        \n",
    "    def roll_over(self):\n",
    "        print(f\"Собака с именем {self.name} сейчас перекатывается\")\n",
    "        \n",
    "my_dog = Dog(\"Barsik\", 2)\n",
    "print(f\"Мою собаку зовут {my_dog.name} \")\n",
    "print(f\"Моему собаку {my_dog.age} года\")\n",
    "    \n",
    "my_dog.sit()\n",
    "my_dog.roll_over()"
   ]
  },
  {
   "cell_type": "code",
   "execution_count": 12,
   "id": "f8efb0d2",
   "metadata": {},
   "outputs": [
    {
     "name": "stdout",
     "output_type": "stream",
     "text": [
      "Собака с именем Barsik сейчас сидит\n",
      "Собака с именем Barsik сейчас перекатывается\n"
     ]
    }
   ],
   "source": [
    "my_dog = Dog(\"Barsik\", 2)\n",
    "\n",
    "my_dog.sit()\n",
    "my_dog.roll_over()"
   ]
  },
  {
   "cell_type": "code",
   "execution_count": 13,
   "id": "1bfea753",
   "metadata": {},
   "outputs": [
    {
     "name": "stdout",
     "output_type": "stream",
     "text": [
      "Собака с именем Pushik сейчас сидит\n",
      "Собака с именем Pushik сейчас перекатывается\n"
     ]
    }
   ],
   "source": [
    "your_dog = Dog(\"Pushik\", 5)\n",
    "\n",
    "your_dog.sit()\n",
    "your_dog.roll_over()"
   ]
  },
  {
   "cell_type": "code",
   "execution_count": 14,
   "id": "88899892",
   "metadata": {},
   "outputs": [
    {
     "name": "stdout",
     "output_type": "stream",
     "text": [
      "Собака с именем Barsik сейчас сидит\n",
      "Собака с именем Barsik сейчас перекатывается\n"
     ]
    }
   ],
   "source": [
    "third_dog = Dog(\"Barsik\", 2)\n",
    "\n",
    "third_dog.sit()\n",
    "third_dog.roll_over()"
   ]
  },
  {
   "cell_type": "code",
   "execution_count": 15,
   "id": "6148907d",
   "metadata": {},
   "outputs": [
    {
     "name": "stdout",
     "output_type": "stream",
     "text": [
      "Собака с именем Barsik сейчас сидит\n",
      "Собака с именем Barsik сейчас перекатывается\n",
      "\n",
      "Собака с именем Barsik сейчас сидит\n",
      "Собака с именем Barsik сейчас перекатывается\n"
     ]
    }
   ],
   "source": [
    "third_dog.sit()\n",
    "third_dog.roll_over()\n",
    "\n",
    "print()\n",
    "\n",
    "my_dog.sit()\n",
    "my_dog.roll_over()"
   ]
  },
  {
   "cell_type": "code",
   "execution_count": 17,
   "id": "abb3e024",
   "metadata": {},
   "outputs": [
    {
     "name": "stdout",
     "output_type": "stream",
     "text": [
      "Собака с именем Baks сейчас сидит\n",
      "Собака с именем Baks сейчас перекатывается\n",
      "\n",
      "Собака с именем Barsik сейчас сидит\n",
      "Собака с именем Barsik сейчас перекатывается\n"
     ]
    }
   ],
   "source": [
    "third_dog = Dog(\"Baks\", 5)\n",
    "\n",
    "third_dog.sit()\n",
    "third_dog.roll_over()\n",
    "print()\n",
    "\n",
    "my_dog.sit()\n",
    "my_dog.roll_over()"
   ]
  },
  {
   "cell_type": "code",
   "execution_count": 36,
   "id": "ecf67f14",
   "metadata": {},
   "outputs": [],
   "source": [
    "class Dog():\n",
    "    def __init__(self, name, age):\n",
    "        self.name = name\n",
    "        self.age = age\n",
    "        \n",
    "    def sit(self):\n",
    "        print(f\"Собака с именем {self.name} сейчас сидит\")\n",
    "        \n",
    "    def roll_over(self):\n",
    "        print(f\"Собака с именем {self.name} сейчас перекатывается\")\n",
    "        \n",
    "    def setName(self, upd_name):\n",
    "        self.name = upd_name\n",
    "        \n",
    "    def setAge(self, upd_age):  \n",
    "        if upd_age >= self.age:\n",
    "            self.age = upd_age\n",
    "            \n",
    "        else:\n",
    "            print(f\"Нелья уменшать возраст!\")\n",
    "        \n",
    "        "
   ]
  },
  {
   "cell_type": "code",
   "execution_count": 37,
   "id": "6d21e8d8",
   "metadata": {},
   "outputs": [
    {
     "name": "stdout",
     "output_type": "stream",
     "text": [
      "Собака с именем Harry сейчас сидит\n",
      "Собака с именем Harry сейчас перекатывается\n",
      "\n",
      "Нелья уменшать возраст!\n",
      "Собака с именем Potter сейчас сидит\n",
      "Собака с именем Potter сейчас перекатывается\n"
     ]
    }
   ],
   "source": [
    "fourth_dog = Dog(\"Harry\", 4)\n",
    "\n",
    "fourth_dog.sit()\n",
    "fourth_dog.roll_over()\n",
    "\n",
    "print()\n",
    "\n",
    "fourth_dog.setName(\"Potter\")\n",
    "fourth_dog.setAge(1)\n",
    "\n",
    "fourth_dog.sit()\n",
    "fourth_dog.roll_over()"
   ]
  },
  {
   "cell_type": "code",
   "execution_count": 38,
   "id": "2adb57eb",
   "metadata": {},
   "outputs": [],
   "source": [
    "#class Dog():\n",
    "    def __init__(self, name, age):\n",
    "        self.name = name\n",
    "        self.age = age\n",
    "        \n",
    "    def sit(self):\n",
    "        print(f\"Собака с именем {self.name} сейчас сидит\")\n",
    "        \n",
    "    def roll_over(self):\n",
    "        print(f\"Собака с именем {self.name} сейчас перекатывается\")\n",
    "        \n",
    "    def setName(self, upd_name):\n",
    "        self.name = upd_name\n",
    "        \n",
    "    def setAge(self, upd_age):  \n",
    "        if upd_age >= self.age:\n",
    "            self.age = upd_age\n",
    "            \n",
    "        else:\n",
    "            print(f\"Нелья уменшать возраст!\")\n",
    "        \n",
    "    def increment_age(self, inc_age):\n",
    "        self.age += inc_age\n",
    "        \n",
    "        "
   ]
  },
  {
   "cell_type": "code",
   "execution_count": 40,
   "id": "9e050e5f",
   "metadata": {},
   "outputs": [
    {
     "name": "stdout",
     "output_type": "stream",
     "text": [
      "Собака с именем Harry сейчас сидит\n",
      "Собака с именем Harry сейчас перекатывается\n",
      "\n",
      "Нелья уменшать возраст!\n",
      "Собака с именем Potter сейчас сидит\n",
      "Собака с именем Potter сейчас перекатывается\n",
      "\n",
      "Моей собаке 6 \n"
     ]
    }
   ],
   "source": [
    "fourth_dog = Dog(\"Harry\", 4)\n",
    "\n",
    "fourth_dog.sit()\n",
    "fourth_dog.roll_over()\n",
    "\n",
    "print()\n",
    "\n",
    "fourth_dog.setName(\"Potter\")\n",
    "fourth_dog.setAge(1)\n",
    "\n",
    "fourth_dog.sit()\n",
    "fourth_dog.roll_over()\n",
    "\n",
    "print()\n",
    "\n",
    "fourth_dog.increment_age(2)\n",
    "print(f\"Моей собаке {fourth_dog.age} \")"
   ]
  },
  {
   "cell_type": "code",
   "execution_count": 46,
   "id": "4894e7af",
   "metadata": {},
   "outputs": [
    {
     "name": "stdout",
     "output_type": "stream",
     "text": [
      "Собака с именем Rex сейчас сидит\n",
      "Собака с именем Rex сейчас перекатывается\n"
     ]
    }
   ],
   "source": [
    "from dog import Dog\n",
    "\n",
    "fifth_dog = Dog (\"Rex\", 8)\n",
    "fifth_dog.sit()\n",
    "fifth_dog.roll_over()"
   ]
  },
  {
   "cell_type": "code",
   "execution_count": null,
   "id": "95cc77ee",
   "metadata": {},
   "outputs": [],
   "source": []
  }
 ],
 "metadata": {
  "kernelspec": {
   "display_name": "Python 3 (ipykernel)",
   "language": "python",
   "name": "python3"
  },
  "language_info": {
   "codemirror_mode": {
    "name": "ipython",
    "version": 3
   },
   "file_extension": ".py",
   "mimetype": "text/x-python",
   "name": "python",
   "nbconvert_exporter": "python",
   "pygments_lexer": "ipython3",
   "version": "3.11.3"
  }
 },
 "nbformat": 4,
 "nbformat_minor": 5
}
