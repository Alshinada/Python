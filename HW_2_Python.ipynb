{
 "cells": [
  {
   "cell_type": "code",
   "execution_count": 2,
   "id": "71b17ca5",
   "metadata": {},
   "outputs": [
    {
     "name": "stdout",
     "output_type": "stream",
     "text": [
      "Я хотелa бы сыграть Federica Pellegrini\n",
      "Я хотелa бы сыграть Katinkca Hossu\n",
      "Я хотелa бы сыграть Keti Ledeci\n"
     ]
    }
   ],
   "source": [
    "swimmers = ['Federica Pellegrini', 'Katinkca Hossu','Sara Shestream','Keti Ledeci','Raayan Lokhte','Melissa Franklin','Femke Heemskerk']\n",
    "\n",
    "swimming = f\"Я хотелa бы сыграть {swimmers[0]}\"\n",
    "print(swimming)\n",
    "\n",
    "swimming =f\"Я хотелa бы сыграть {swimmers[1]}\"\n",
    "print(swimming)\n",
    "\n",
    "swimming =f\"Я хотелa бы сыграть {swimmers[3]}\"\n",
    "print(swimming)"
   ]
  },
  {
   "cell_type": "code",
   "execution_count": 88,
   "id": "60bb9f71",
   "metadata": {},
   "outputs": [
    {
     "name": "stdout",
     "output_type": "stream",
     "text": [
      "Приглашаю тебя, Gulchehra Akhmedova, на обед\n",
      "Приглашаю тебя, Alisher Akhmedov, на обед\n",
      "Приглашаю тебя, Perizat Mussayeva, на обед\n",
      "Приглашаю тебя, Meyramgul Kozhabayeva, на обед\n",
      "Приглашаю тебя, Nurbek Akhmedov, на обед\n",
      "\n",
      "«Расширяем список гостей»\n",
      "\n",
      "Приглашаю тебя,  Madiyar Akhmedov, на обед\n",
      "Приглашаю тебя,  Gulchehra Akhmedova, на обед\n",
      "Приглашаю тебя,  Raushan Eltayevna, на обед\n",
      "Приглашаю тебя,  Alisher Akhmedov, на обед\n",
      "Приглашаю тебя,  Perizat Mussayeva, на обед\n",
      "Приглашаю тебя,  Meyramgul Kozhabayeva, на обед\n",
      "Приглашаю тебя,  Nurbek Akhmedov, на обед\n",
      "Приглашаю тебя,  Sultan Akhmedov, на обед\n"
     ]
    }
   ],
   "source": [
    "guests = ['Gulchehra Akhmedova', 'Alisher Akhmedov', 'Perizat Mussayeva', 'Meyramgul Kozhabayeva', 'Nurbek Akhmedov']\n",
    "\n",
    "invitation = f\"Приглашаю тебя, {guests[0]}, на обед\"\n",
    "print(invitation)\n",
    "\n",
    "invitation = f\"Приглашаю тебя, {guests[1]}, на обед\"\n",
    "print(invitation)\n",
    "\n",
    "invitation = f\"Приглашаю тебя, {guests[2]}, на обед\"\n",
    "print(invitation)\n",
    "\n",
    "invitation = f\"Приглашаю тебя, {guests[3]}, на обед\"\n",
    "print(invitation)\n",
    "\n",
    "invitation = f\"Приглашаю тебя, {guests[4]}, на обед\"\n",
    "print(invitation)\n",
    "\n",
    "print(\"\\n«Расширяем список гостей»\")\n",
    "\n",
    "guests.insert(0, 'Madiyar Akhmedov')\n",
    "guests.insert(2, 'Raushan Eltayevna')\n",
    "guests.append (\"Sultan Akhmedov\")\n",
    "\n",
    "invitation = f\"\\nПриглашаю тебя,  {guests[0]}, на обед\"\n",
    "print(invitation)\n",
    "\n",
    "invitation = f\"Приглашаю тебя,  {guests[1]}, на обед\"\n",
    "print(invitation)\n",
    "\n",
    "invitation = f\"Приглашаю тебя,  {guests[2]}, на обед\"\n",
    "print(invitation)\n",
    "\n",
    "invitation = f\"Приглашаю тебя,  {guests[3]}, на обед\"\n",
    "print(invitation)\n",
    "\n",
    "invitation = f\"Приглашаю тебя,  {guests[4]}, на обед\"\n",
    "print(invitation)\n",
    "\n",
    "invitation = f\"Приглашаю тебя,  {guests[5]}, на обед\"\n",
    "print(invitation)\n",
    "\n",
    "invitation = f\"Приглашаю тебя,  {guests[6]}, на обед\"\n",
    "print(invitation)\n",
    "\n",
    "invitation = f\"Приглашаю тебя,  {guests[7]}, на обед\"\n",
    "print(invitation)\n"
   ]
  },
  {
   "cell_type": "code",
   "execution_count": 4,
   "id": "69846649",
   "metadata": {},
   "outputs": [
    {
     "name": "stdout",
     "output_type": "stream",
     "text": [
      "«Уменьшаем список гостей»\n"
     ]
    }
   ],
   "source": [
    "print(\"«Уменьшаем список гостей»\")"
   ]
  },
  {
   "cell_type": "code",
   "execution_count": 89,
   "id": "914de8c5",
   "metadata": {},
   "outputs": [
    {
     "name": "stdout",
     "output_type": "stream",
     "text": [
      "Сожалею об отмене приглашения, Sultan Akhmedov на обед\n",
      "Сожалею об отмене приглашения, Nurbek Akhmedov на обед\n",
      "Сожалею об отмене приглашения, Meyramgul Kozhabayeva на обед\n",
      "Сожалею об отмене приглашения, Perizat Mussayeva на обед\n",
      "Сожалею об отмене приглашения, Alisher Akhmedov на обед\n",
      "Сожалею об отмене приглашения, Raushan Eltayevna на обед\n"
     ]
    }
   ],
   "source": [
    "last_guest1 = guests.pop(7)\n",
    "print(f\"Сожалею об отмене приглашения, {last_guest1} на обед\" )\n",
    "\n",
    "last_guest2 = guests.pop(6)\n",
    "print(f\"Сожалею об отмене приглашения, {last_guest2} на обед\" )\n",
    "\n",
    "last_guest3 = guests.pop(5)\n",
    "print(f\"Сожалею об отмене приглашения, {last_guest3} на обед\" )\n",
    "\n",
    "last_guest4 = guests.pop(4)\n",
    "print(f\"Сожалею об отмене приглашения, {last_guest4} на обед\" )\n",
    "\n",
    "last_guest5 = guests.pop(3)\n",
    "print(f\"Сожалею об отмене приглашения, {last_guest5} на обед\" )\n",
    "\n",
    "last_guest6 = guests.pop(2)\n",
    "print(f\"Сожалею об отмене приглашения, {last_guest6} на обед\" )"
   ]
  },
  {
   "cell_type": "code",
   "execution_count": 71,
   "id": "c79b878d",
   "metadata": {},
   "outputs": [
    {
     "name": "stdout",
     "output_type": "stream",
     "text": [
      "['USA', 'GBR', 'Canada', 'Korea', 'Maldives']\n",
      "['Canada', 'GBR', 'Korea', 'Maldives', 'USA']\n",
      "['USA', 'GBR', 'Canada', 'Korea', 'Maldives']\n",
      "['USA', 'Maldives', 'Korea', 'GBR', 'Canada']\n"
     ]
    }
   ],
   "source": [
    "countries = ['USA', 'GBR', 'Canada', 'Korea', 'Maldives']\n",
    "print(countries)\n",
    "\n",
    "print (sorted(countries))\n",
    "\n",
    "print(countries)\n",
    "\n",
    "countries.sort(reverse=True)\n",
    "print(countries)"
   ]
  },
  {
   "cell_type": "code",
   "execution_count": 93,
   "id": "981bcd5a",
   "metadata": {},
   "outputs": [
    {
     "name": "stdout",
     "output_type": "stream",
     "text": [
      "подросток\n"
     ]
    }
   ],
   "source": [
    "age =17\n",
    "if age <2 :\n",
    "    print(\"младенец\")\n",
    "elif age>=2 and age<4:\n",
    "     print(\"малыш\")\n",
    "elif age>=4 and age<13:\n",
    "    print(\"ребенок\")\n",
    "elif age>=13 and age<20:\n",
    "    print(\"подросток\")\n",
    "elif age>=20:\n",
    "    print(\"взрослый\")"
   ]
  },
  {
   "cell_type": "code",
   "execution_count": null,
   "id": "321696ee",
   "metadata": {},
   "outputs": [],
   "source": []
  }
 ],
 "metadata": {
  "kernelspec": {
   "display_name": "Python 3 (ipykernel)",
   "language": "python",
   "name": "python3"
  },
  "language_info": {
   "codemirror_mode": {
    "name": "ipython",
    "version": 3
   },
   "file_extension": ".py",
   "mimetype": "text/x-python",
   "name": "python",
   "nbconvert_exporter": "python",
   "pygments_lexer": "ipython3",
   "version": "3.11.3"
  }
 },
 "nbformat": 4,
 "nbformat_minor": 5
}
