{
 "cells": [
  {
   "cell_type": "code",
   "execution_count": 14,
   "id": "9ff71e1f",
   "metadata": {},
   "outputs": [
    {
     "data": {
      "text/plain": [
       "1"
      ]
     },
     "execution_count": 14,
     "metadata": {},
     "output_type": "execute_result"
    }
   ],
   "source": [
    "numbers = list(range(1, 1000001))\n",
    "min(numbers)"
   ]
  },
  {
   "cell_type": "code",
   "execution_count": 12,
   "id": "baad7a5e",
   "metadata": {},
   "outputs": [
    {
     "data": {
      "text/plain": [
       "1000000"
      ]
     },
     "execution_count": 12,
     "metadata": {},
     "output_type": "execute_result"
    }
   ],
   "source": [
    "max(numbers)"
   ]
  },
  {
   "cell_type": "code",
   "execution_count": 11,
   "id": "1713ae6e",
   "metadata": {},
   "outputs": [
    {
     "data": {
      "text/plain": [
       "500000500000"
      ]
     },
     "execution_count": 11,
     "metadata": {},
     "output_type": "execute_result"
    }
   ],
   "source": [
    "sum(numbers)"
   ]
  },
  {
   "cell_type": "code",
   "execution_count": 34,
   "id": "7984f2b6",
   "metadata": {},
   "outputs": [
    {
     "name": "stdout",
     "output_type": "stream",
     "text": [
      "[3, 6, 9, 12, 15, 18, 21, 24, 27, 30]\n"
     ]
    }
   ],
   "source": [
    "divided_3 = list(range(3,31,3))\n",
    "print(divided_3)"
   ]
  },
  {
   "cell_type": "code",
   "execution_count": 35,
   "id": "36cf5dce",
   "metadata": {},
   "outputs": [
    {
     "name": "stdout",
     "output_type": "stream",
     "text": [
      "[1, 8, 27, 64, 125, 216, 343, 512, 729, 1000]\n"
     ]
    }
   ],
   "source": [
    "cube = []\n",
    "for number in range(1, 11):\n",
    "    number**3\n",
    "    cube.append(number**3)\n",
    "    \n",
    "print(cube)"
   ]
  },
  {
   "cell_type": "code",
   "execution_count": 17,
   "id": "e7bcd882",
   "metadata": {},
   "outputs": [
    {
     "name": "stdout",
     "output_type": "stream",
     "text": [
      "Введите возраст: 1\n",
      "Цена билета: бесплатно\n",
      "\n",
      "\tДля выхода напишите: -1\n",
      " \n",
      "Введите возраст: 5\n",
      "Цена билета: 1000\n",
      "\n",
      "\tДля выхода напишите: -1\n",
      " \n",
      "Введите возраст: 63\n",
      "Цена билета: 1500\n",
      "\n",
      "\tДля выхода напишите: -1\n",
      " \n",
      "Введите возраст: -1\n",
      "Спасибо\n"
     ]
    }
   ],
   "source": [
    "\n",
    "while True:\n",
    "    age = int(input(\"Введите возраст: \"))\n",
    "        \n",
    "    if age == -1:\n",
    "        print(\"Спасибо\")\n",
    "        break\n",
    "        \n",
    "    if age < 3:\n",
    "        print(\"Цена билета: бесплатно\")\n",
    "        \n",
    "    elif age < 12:\n",
    "        print(\"Цена билета: 1000\")\n",
    "        \n",
    "    else:\n",
    "        print(\"Цена билета: 1500\")\n",
    "        \n",
    "        \n",
    "    print(\"\\n\\tДля выхода напишите: -1\\n \")\n",
    "    "
   ]
  },
  {
   "cell_type": "code",
   "execution_count": null,
   "id": "482303e7",
   "metadata": {},
   "outputs": [],
   "source": [
    "n = int(input(\"Bводе числа: \"))\n",
    "i = 1\n",
    "while i <= n:\n",
    "    if n % i == 0:\n",
    "        print(i, end = ' ')\n",
    "    i+=1\n"
   ]
  },
  {
   "cell_type": "code",
   "execution_count": 16,
   "id": "481d36bc",
   "metadata": {},
   "outputs": [
    {
     "name": "stdout",
     "output_type": "stream",
     "text": [
      "Bводе числа: 125\n",
      "8\n"
     ]
    }
   ],
   "source": [
    "n = int(input(\"Bводе числа: \"))\n",
    "\n",
    "c = n % 10\n",
    "n = n // 10\n",
    "b = n % 10\n",
    "a = n // 10\n",
    "\n",
    "print(a+b+c)"
   ]
  },
  {
   "cell_type": "code",
   "execution_count": null,
   "id": "e82d017d",
   "metadata": {},
   "outputs": [],
   "source": []
  }
 ],
 "metadata": {
  "kernelspec": {
   "display_name": "Python 3 (ipykernel)",
   "language": "python",
   "name": "python3"
  },
  "language_info": {
   "codemirror_mode": {
    "name": "ipython",
    "version": 3
   },
   "file_extension": ".py",
   "mimetype": "text/x-python",
   "name": "python",
   "nbconvert_exporter": "python",
   "pygments_lexer": "ipython3",
   "version": "3.11.3"
  }
 },
 "nbformat": 4,
 "nbformat_minor": 5
}
