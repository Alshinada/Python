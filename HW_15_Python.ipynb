{
 "cells": [
  {
   "cell_type": "code",
   "execution_count": 1,
   "id": "14f6c2a8",
   "metadata": {},
   "outputs": [],
   "source": [
    "import numpy as np\n",
    "import pandas as pd"
   ]
  },
  {
   "cell_type": "code",
   "execution_count": 2,
   "id": "9de3e825",
   "metadata": {},
   "outputs": [
    {
     "data": {
      "text/html": [
       "<div>\n",
       "<style scoped>\n",
       "    .dataframe tbody tr th:only-of-type {\n",
       "        vertical-align: middle;\n",
       "    }\n",
       "\n",
       "    .dataframe tbody tr th {\n",
       "        vertical-align: top;\n",
       "    }\n",
       "\n",
       "    .dataframe thead th {\n",
       "        text-align: right;\n",
       "    }\n",
       "</style>\n",
       "<table border=\"1\" class=\"dataframe\">\n",
       "  <thead>\n",
       "    <tr style=\"text-align: right;\">\n",
       "      <th></th>\n",
       "      <th>No</th>\n",
       "      <th>X1 transaction date</th>\n",
       "      <th>X2 house age</th>\n",
       "      <th>X3 distance to the nearest MRT station</th>\n",
       "      <th>X4 number of convenience stores</th>\n",
       "      <th>X5 latitude</th>\n",
       "      <th>X6 longitude</th>\n",
       "      <th>Y house price of unit area</th>\n",
       "    </tr>\n",
       "  </thead>\n",
       "  <tbody>\n",
       "    <tr>\n",
       "      <th>0</th>\n",
       "      <td>1</td>\n",
       "      <td>2012.917</td>\n",
       "      <td>32.0</td>\n",
       "      <td>84.87882</td>\n",
       "      <td>10</td>\n",
       "      <td>24.98298</td>\n",
       "      <td>121.54024</td>\n",
       "      <td>37.9</td>\n",
       "    </tr>\n",
       "    <tr>\n",
       "      <th>1</th>\n",
       "      <td>2</td>\n",
       "      <td>2012.917</td>\n",
       "      <td>19.5</td>\n",
       "      <td>306.59470</td>\n",
       "      <td>9</td>\n",
       "      <td>24.98034</td>\n",
       "      <td>121.53951</td>\n",
       "      <td>42.2</td>\n",
       "    </tr>\n",
       "    <tr>\n",
       "      <th>2</th>\n",
       "      <td>3</td>\n",
       "      <td>2013.583</td>\n",
       "      <td>13.3</td>\n",
       "      <td>561.98450</td>\n",
       "      <td>5</td>\n",
       "      <td>24.98746</td>\n",
       "      <td>121.54391</td>\n",
       "      <td>47.3</td>\n",
       "    </tr>\n",
       "    <tr>\n",
       "      <th>3</th>\n",
       "      <td>4</td>\n",
       "      <td>2013.500</td>\n",
       "      <td>13.3</td>\n",
       "      <td>561.98450</td>\n",
       "      <td>5</td>\n",
       "      <td>24.98746</td>\n",
       "      <td>121.54391</td>\n",
       "      <td>54.8</td>\n",
       "    </tr>\n",
       "    <tr>\n",
       "      <th>4</th>\n",
       "      <td>5</td>\n",
       "      <td>2012.833</td>\n",
       "      <td>5.0</td>\n",
       "      <td>390.56840</td>\n",
       "      <td>5</td>\n",
       "      <td>24.97937</td>\n",
       "      <td>121.54245</td>\n",
       "      <td>43.1</td>\n",
       "    </tr>\n",
       "  </tbody>\n",
       "</table>\n",
       "</div>"
      ],
      "text/plain": [
       "   No  X1 transaction date  X2 house age  \\\n",
       "0   1             2012.917          32.0   \n",
       "1   2             2012.917          19.5   \n",
       "2   3             2013.583          13.3   \n",
       "3   4             2013.500          13.3   \n",
       "4   5             2012.833           5.0   \n",
       "\n",
       "   X3 distance to the nearest MRT station  X4 number of convenience stores  \\\n",
       "0                                84.87882                               10   \n",
       "1                               306.59470                                9   \n",
       "2                               561.98450                                5   \n",
       "3                               561.98450                                5   \n",
       "4                               390.56840                                5   \n",
       "\n",
       "   X5 latitude  X6 longitude  Y house price of unit area  \n",
       "0     24.98298     121.54024                        37.9  \n",
       "1     24.98034     121.53951                        42.2  \n",
       "2     24.98746     121.54391                        47.3  \n",
       "3     24.98746     121.54391                        54.8  \n",
       "4     24.97937     121.54245                        43.1  "
      ]
     },
     "execution_count": 2,
     "metadata": {},
     "output_type": "execute_result"
    }
   ],
   "source": [
    "#1 Скачайте и ознакомьтесь с датасетом “ real_estate.csv”\n",
    "\n",
    "df = pd.read_csv(\"real_estate.csv\")\n",
    "df.head()"
   ]
  },
  {
   "cell_type": "code",
   "execution_count": 3,
   "id": "6c3b5039",
   "metadata": {},
   "outputs": [
    {
     "name": "stdout",
     "output_type": "stream",
     "text": [
      "['No', 'X1 transaction date', 'X2 house age', 'X3 distance to the nearest MRT station', 'X4 number of convenience stores', 'X5 latitude', 'X6 longitude', 'Y house price of unit area']\n"
     ]
    }
   ],
   "source": [
    "#2 Откройте данный датасет в Jupyter и выведите в консоль названия всех его столбцов\n",
    "print(list(df.columns))"
   ]
  },
  {
   "cell_type": "code",
   "execution_count": 4,
   "id": "7ab5bfe3",
   "metadata": {},
   "outputs": [
    {
     "data": {
      "text/html": [
       "<div>\n",
       "<style scoped>\n",
       "    .dataframe tbody tr th:only-of-type {\n",
       "        vertical-align: middle;\n",
       "    }\n",
       "\n",
       "    .dataframe tbody tr th {\n",
       "        vertical-align: top;\n",
       "    }\n",
       "\n",
       "    .dataframe thead th {\n",
       "        text-align: right;\n",
       "    }\n",
       "</style>\n",
       "<table border=\"1\" class=\"dataframe\">\n",
       "  <thead>\n",
       "    <tr style=\"text-align: right;\">\n",
       "      <th></th>\n",
       "      <th>X2 house age</th>\n",
       "      <th>X3 distance to the nearest MRT station</th>\n",
       "      <th>X4 number of convenience stores</th>\n",
       "      <th>Y house price of unit area</th>\n",
       "    </tr>\n",
       "  </thead>\n",
       "  <tbody>\n",
       "    <tr>\n",
       "      <th>0</th>\n",
       "      <td>32.0</td>\n",
       "      <td>84.87882</td>\n",
       "      <td>10</td>\n",
       "      <td>37.9</td>\n",
       "    </tr>\n",
       "    <tr>\n",
       "      <th>1</th>\n",
       "      <td>19.5</td>\n",
       "      <td>306.59470</td>\n",
       "      <td>9</td>\n",
       "      <td>42.2</td>\n",
       "    </tr>\n",
       "    <tr>\n",
       "      <th>2</th>\n",
       "      <td>13.3</td>\n",
       "      <td>561.98450</td>\n",
       "      <td>5</td>\n",
       "      <td>47.3</td>\n",
       "    </tr>\n",
       "    <tr>\n",
       "      <th>3</th>\n",
       "      <td>13.3</td>\n",
       "      <td>561.98450</td>\n",
       "      <td>5</td>\n",
       "      <td>54.8</td>\n",
       "    </tr>\n",
       "    <tr>\n",
       "      <th>4</th>\n",
       "      <td>5.0</td>\n",
       "      <td>390.56840</td>\n",
       "      <td>5</td>\n",
       "      <td>43.1</td>\n",
       "    </tr>\n",
       "  </tbody>\n",
       "</table>\n",
       "</div>"
      ],
      "text/plain": [
       "   X2 house age  X3 distance to the nearest MRT station  \\\n",
       "0          32.0                                84.87882   \n",
       "1          19.5                               306.59470   \n",
       "2          13.3                               561.98450   \n",
       "3          13.3                               561.98450   \n",
       "4           5.0                               390.56840   \n",
       "\n",
       "   X4 number of convenience stores  Y house price of unit area  \n",
       "0                               10                        37.9  \n",
       "1                                9                        42.2  \n",
       "2                                5                        47.3  \n",
       "3                                5                        54.8  \n",
       "4                                5                        43.1  "
      ]
     },
     "execution_count": 4,
     "metadata": {},
     "output_type": "execute_result"
    }
   ],
   "source": [
    "#3 Мы будем работать только со столбцами ['X2 house age', 'X3 distance to the nearest MRT station', 'X4 number of convenience stores', 'Y house price of unit area']. \n",
    "sdf = df.loc[:, ['X2 house age', 'X3 distance to the nearest MRT station', 'X4 number of convenience stores', 'Y house price of unit area']]\n",
    "sdf.head()"
   ]
  },
  {
   "cell_type": "code",
   "execution_count": 5,
   "id": "aaeef0ea",
   "metadata": {},
   "outputs": [
    {
     "data": {
      "text/html": [
       "<div>\n",
       "<style scoped>\n",
       "    .dataframe tbody tr th:only-of-type {\n",
       "        vertical-align: middle;\n",
       "    }\n",
       "\n",
       "    .dataframe tbody tr th {\n",
       "        vertical-align: top;\n",
       "    }\n",
       "\n",
       "    .dataframe thead th {\n",
       "        text-align: right;\n",
       "    }\n",
       "</style>\n",
       "<table border=\"1\" class=\"dataframe\">\n",
       "  <thead>\n",
       "    <tr style=\"text-align: right;\">\n",
       "      <th></th>\n",
       "      <th>X2 house age</th>\n",
       "      <th>X3 distance to the nearest MRT station</th>\n",
       "      <th>X4 number of convenience stores</th>\n",
       "    </tr>\n",
       "  </thead>\n",
       "  <tbody>\n",
       "    <tr>\n",
       "      <th>0</th>\n",
       "      <td>32.0</td>\n",
       "      <td>84.87882</td>\n",
       "      <td>10</td>\n",
       "    </tr>\n",
       "    <tr>\n",
       "      <th>1</th>\n",
       "      <td>19.5</td>\n",
       "      <td>306.59470</td>\n",
       "      <td>9</td>\n",
       "    </tr>\n",
       "    <tr>\n",
       "      <th>2</th>\n",
       "      <td>13.3</td>\n",
       "      <td>561.98450</td>\n",
       "      <td>5</td>\n",
       "    </tr>\n",
       "    <tr>\n",
       "      <th>3</th>\n",
       "      <td>13.3</td>\n",
       "      <td>561.98450</td>\n",
       "      <td>5</td>\n",
       "    </tr>\n",
       "    <tr>\n",
       "      <th>4</th>\n",
       "      <td>5.0</td>\n",
       "      <td>390.56840</td>\n",
       "      <td>5</td>\n",
       "    </tr>\n",
       "    <tr>\n",
       "      <th>...</th>\n",
       "      <td>...</td>\n",
       "      <td>...</td>\n",
       "      <td>...</td>\n",
       "    </tr>\n",
       "    <tr>\n",
       "      <th>409</th>\n",
       "      <td>13.7</td>\n",
       "      <td>4082.01500</td>\n",
       "      <td>0</td>\n",
       "    </tr>\n",
       "    <tr>\n",
       "      <th>410</th>\n",
       "      <td>5.6</td>\n",
       "      <td>90.45606</td>\n",
       "      <td>9</td>\n",
       "    </tr>\n",
       "    <tr>\n",
       "      <th>411</th>\n",
       "      <td>18.8</td>\n",
       "      <td>390.96960</td>\n",
       "      <td>7</td>\n",
       "    </tr>\n",
       "    <tr>\n",
       "      <th>412</th>\n",
       "      <td>8.1</td>\n",
       "      <td>104.81010</td>\n",
       "      <td>5</td>\n",
       "    </tr>\n",
       "    <tr>\n",
       "      <th>413</th>\n",
       "      <td>6.5</td>\n",
       "      <td>90.45606</td>\n",
       "      <td>9</td>\n",
       "    </tr>\n",
       "  </tbody>\n",
       "</table>\n",
       "<p>414 rows × 3 columns</p>\n",
       "</div>"
      ],
      "text/plain": [
       "     X2 house age  X3 distance to the nearest MRT station  \\\n",
       "0            32.0                                84.87882   \n",
       "1            19.5                               306.59470   \n",
       "2            13.3                               561.98450   \n",
       "3            13.3                               561.98450   \n",
       "4             5.0                               390.56840   \n",
       "..            ...                                     ...   \n",
       "409          13.7                              4082.01500   \n",
       "410           5.6                                90.45606   \n",
       "411          18.8                               390.96960   \n",
       "412           8.1                               104.81010   \n",
       "413           6.5                                90.45606   \n",
       "\n",
       "     X4 number of convenience stores  \n",
       "0                                 10  \n",
       "1                                  9  \n",
       "2                                  5  \n",
       "3                                  5  \n",
       "4                                  5  \n",
       "..                               ...  \n",
       "409                                0  \n",
       "410                                9  \n",
       "411                                7  \n",
       "412                                5  \n",
       "413                                9  \n",
       "\n",
       "[414 rows x 3 columns]"
      ]
     },
     "execution_count": 5,
     "metadata": {},
     "output_type": "execute_result"
    }
   ],
   "source": [
    "#4 Создайте переменную Х, которая содержит данные датасета без столбца ‘'Y house price of unit area’\n",
    "x=sdf.drop('Y house price of unit area', axis=1)\n",
    "x"
   ]
  },
  {
   "cell_type": "code",
   "execution_count": 6,
   "id": "96161ef6",
   "metadata": {},
   "outputs": [
    {
     "data": {
      "text/plain": [
       "0      37.9\n",
       "1      42.2\n",
       "2      47.3\n",
       "3      54.8\n",
       "4      43.1\n",
       "       ... \n",
       "409    15.4\n",
       "410    50.0\n",
       "411    40.6\n",
       "412    52.5\n",
       "413    63.9\n",
       "Name: Y house price of unit area, Length: 414, dtype: float64"
      ]
     },
     "execution_count": 6,
     "metadata": {},
     "output_type": "execute_result"
    }
   ],
   "source": [
    "#5 Создайте переменную y, которая содержит только данные столбца 'Y house price of unit area’\n",
    "y=sdf['Y house price of unit area']\n",
    "y"
   ]
  },
  {
   "cell_type": "code",
   "execution_count": 7,
   "id": "0877758b",
   "metadata": {},
   "outputs": [],
   "source": [
    "#6 Разделите датасеты Х и у на тренировочные и тестовые, где test_size будет равен 20%\n",
    "\n",
    "from sklearn.model_selection import train_test_split\n",
    "xtrain, xtest, ytrain, ytest = train_test_split(x, y, train_size=0.2)"
   ]
  },
  {
   "cell_type": "code",
   "execution_count": 8,
   "id": "84d84d4e",
   "metadata": {},
   "outputs": [
    {
     "data": {
      "text/plain": [
       "(36.97682926829268, 38.228012048192774)"
      ]
     },
     "execution_count": 8,
     "metadata": {},
     "output_type": "execute_result"
    }
   ],
   "source": [
    "np.mean(ytrain), np.mean(ytest)"
   ]
  },
  {
   "cell_type": "code",
   "execution_count": 9,
   "id": "2ebce361",
   "metadata": {},
   "outputs": [
    {
     "name": "stderr",
     "output_type": "stream",
     "text": [
      "C:\\Users\\ACER\\anaconda3\\Lib\\site-packages\\numpy\\core\\fromnumeric.py:3462: FutureWarning: In a future version, DataFrame.mean(axis=None) will return a scalar mean over the entire DataFrame. To retain the old behavior, use 'frame.mean(axis=0)' or just 'frame.mean()'\n",
      "  return mean(axis=axis, dtype=dtype, out=out, **kwargs)\n",
      "C:\\Users\\ACER\\anaconda3\\Lib\\site-packages\\numpy\\core\\fromnumeric.py:3462: FutureWarning: In a future version, DataFrame.mean(axis=None) will return a scalar mean over the entire DataFrame. To retain the old behavior, use 'frame.mean(axis=0)' or just 'frame.mean()'\n",
      "  return mean(axis=axis, dtype=dtype, out=out, **kwargs)\n"
     ]
    },
    {
     "data": {
      "text/plain": [
       "(X2 house age                                17.903659\n",
       " X3 distance to the nearest MRT station    1108.369240\n",
       " X4 number of convenience stores              4.146341\n",
       " dtype: float64,\n",
       " X2 house age                                17.665361\n",
       " X3 distance to the nearest MRT station    1077.838547\n",
       " X4 number of convenience stores              4.081325\n",
       " dtype: float64)"
      ]
     },
     "execution_count": 9,
     "metadata": {},
     "output_type": "execute_result"
    }
   ],
   "source": [
    "np.mean(xtrain), np.mean(xtest)"
   ]
  },
  {
   "cell_type": "code",
   "execution_count": 13,
   "id": "cb6c6050",
   "metadata": {},
   "outputs": [
    {
     "data": {
      "text/html": [
       "<style>#sk-container-id-2 {color: black;background-color: white;}#sk-container-id-2 pre{padding: 0;}#sk-container-id-2 div.sk-toggleable {background-color: white;}#sk-container-id-2 label.sk-toggleable__label {cursor: pointer;display: block;width: 100%;margin-bottom: 0;padding: 0.3em;box-sizing: border-box;text-align: center;}#sk-container-id-2 label.sk-toggleable__label-arrow:before {content: \"▸\";float: left;margin-right: 0.25em;color: #696969;}#sk-container-id-2 label.sk-toggleable__label-arrow:hover:before {color: black;}#sk-container-id-2 div.sk-estimator:hover label.sk-toggleable__label-arrow:before {color: black;}#sk-container-id-2 div.sk-toggleable__content {max-height: 0;max-width: 0;overflow: hidden;text-align: left;background-color: #f0f8ff;}#sk-container-id-2 div.sk-toggleable__content pre {margin: 0.2em;color: black;border-radius: 0.25em;background-color: #f0f8ff;}#sk-container-id-2 input.sk-toggleable__control:checked~div.sk-toggleable__content {max-height: 200px;max-width: 100%;overflow: auto;}#sk-container-id-2 input.sk-toggleable__control:checked~label.sk-toggleable__label-arrow:before {content: \"▾\";}#sk-container-id-2 div.sk-estimator input.sk-toggleable__control:checked~label.sk-toggleable__label {background-color: #d4ebff;}#sk-container-id-2 div.sk-label input.sk-toggleable__control:checked~label.sk-toggleable__label {background-color: #d4ebff;}#sk-container-id-2 input.sk-hidden--visually {border: 0;clip: rect(1px 1px 1px 1px);clip: rect(1px, 1px, 1px, 1px);height: 1px;margin: -1px;overflow: hidden;padding: 0;position: absolute;width: 1px;}#sk-container-id-2 div.sk-estimator {font-family: monospace;background-color: #f0f8ff;border: 1px dotted black;border-radius: 0.25em;box-sizing: border-box;margin-bottom: 0.5em;}#sk-container-id-2 div.sk-estimator:hover {background-color: #d4ebff;}#sk-container-id-2 div.sk-parallel-item::after {content: \"\";width: 100%;border-bottom: 1px solid gray;flex-grow: 1;}#sk-container-id-2 div.sk-label:hover label.sk-toggleable__label {background-color: #d4ebff;}#sk-container-id-2 div.sk-serial::before {content: \"\";position: absolute;border-left: 1px solid gray;box-sizing: border-box;top: 0;bottom: 0;left: 50%;z-index: 0;}#sk-container-id-2 div.sk-serial {display: flex;flex-direction: column;align-items: center;background-color: white;padding-right: 0.2em;padding-left: 0.2em;position: relative;}#sk-container-id-2 div.sk-item {position: relative;z-index: 1;}#sk-container-id-2 div.sk-parallel {display: flex;align-items: stretch;justify-content: center;background-color: white;position: relative;}#sk-container-id-2 div.sk-item::before, #sk-container-id-2 div.sk-parallel-item::before {content: \"\";position: absolute;border-left: 1px solid gray;box-sizing: border-box;top: 0;bottom: 0;left: 50%;z-index: -1;}#sk-container-id-2 div.sk-parallel-item {display: flex;flex-direction: column;z-index: 1;position: relative;background-color: white;}#sk-container-id-2 div.sk-parallel-item:first-child::after {align-self: flex-end;width: 50%;}#sk-container-id-2 div.sk-parallel-item:last-child::after {align-self: flex-start;width: 50%;}#sk-container-id-2 div.sk-parallel-item:only-child::after {width: 0;}#sk-container-id-2 div.sk-dashed-wrapped {border: 1px dashed gray;margin: 0 0.4em 0.5em 0.4em;box-sizing: border-box;padding-bottom: 0.4em;background-color: white;}#sk-container-id-2 div.sk-label label {font-family: monospace;font-weight: bold;display: inline-block;line-height: 1.2em;}#sk-container-id-2 div.sk-label-container {text-align: center;}#sk-container-id-2 div.sk-container {/* jupyter's `normalize.less` sets `[hidden] { display: none; }` but bootstrap.min.css set `[hidden] { display: none !important; }` so we also need the `!important` here to be able to override the default hidden behavior on the sphinx rendered scikit-learn.org. See: https://github.com/scikit-learn/scikit-learn/issues/21755 */display: inline-block !important;position: relative;}#sk-container-id-2 div.sk-text-repr-fallback {display: none;}</style><div id=\"sk-container-id-2\" class=\"sk-top-container\"><div class=\"sk-text-repr-fallback\"><pre>LinearRegression()</pre><b>In a Jupyter environment, please rerun this cell to show the HTML representation or trust the notebook. <br />On GitHub, the HTML representation is unable to render, please try loading this page with nbviewer.org.</b></div><div class=\"sk-container\" hidden><div class=\"sk-item\"><div class=\"sk-estimator sk-toggleable\"><input class=\"sk-toggleable__control sk-hidden--visually\" id=\"sk-estimator-id-2\" type=\"checkbox\" checked><label for=\"sk-estimator-id-2\" class=\"sk-toggleable__label sk-toggleable__label-arrow\">LinearRegression</label><div class=\"sk-toggleable__content\"><pre>LinearRegression()</pre></div></div></div></div></div>"
      ],
      "text/plain": [
       "LinearRegression()"
      ]
     },
     "execution_count": 13,
     "metadata": {},
     "output_type": "execute_result"
    }
   ],
   "source": [
    "#7 Обучите модель с помощью алгоритма LinearRegression\n",
    "\n",
    "from sklearn.linear_model import LinearRegression\n",
    "\n",
    "model = LinearRegression()\n",
    "model.fit(xtrain, ytrain)"
   ]
  },
  {
   "cell_type": "code",
   "execution_count": 19,
   "id": "48452cd2",
   "metadata": {},
   "outputs": [
    {
     "data": {
      "text/html": [
       "<div>\n",
       "<style scoped>\n",
       "    .dataframe tbody tr th:only-of-type {\n",
       "        vertical-align: middle;\n",
       "    }\n",
       "\n",
       "    .dataframe tbody tr th {\n",
       "        vertical-align: top;\n",
       "    }\n",
       "\n",
       "    .dataframe thead th {\n",
       "        text-align: right;\n",
       "    }\n",
       "</style>\n",
       "<table border=\"1\" class=\"dataframe\">\n",
       "  <thead>\n",
       "    <tr style=\"text-align: right;\">\n",
       "      <th></th>\n",
       "      <th>Kоэффициенты</th>\n",
       "    </tr>\n",
       "  </thead>\n",
       "  <tbody>\n",
       "    <tr>\n",
       "      <th>X2 house age</th>\n",
       "      <td>-0.219919</td>\n",
       "    </tr>\n",
       "    <tr>\n",
       "      <th>X3 distance to the nearest MRT station</th>\n",
       "      <td>-0.005304</td>\n",
       "    </tr>\n",
       "    <tr>\n",
       "      <th>X4 number of convenience stores</th>\n",
       "      <td>1.363241</td>\n",
       "    </tr>\n",
       "  </tbody>\n",
       "</table>\n",
       "</div>"
      ],
      "text/plain": [
       "                                        Kоэффициенты\n",
       "X2 house age                               -0.219919\n",
       "X3 distance to the nearest MRT station     -0.005304\n",
       "X4 number of convenience stores             1.363241"
      ]
     },
     "execution_count": 19,
     "metadata": {},
     "output_type": "execute_result"
    }
   ],
   "source": [
    "#8 Выведите на экран коэффициенты, которые выбрала регрессионная модель\n",
    "coef = pd.DataFrame(model.coef_, x.columns, columns=['Kоэффициенты'])\n",
    "coef"
   ]
  },
  {
   "cell_type": "code",
   "execution_count": 20,
   "id": "3275e14d",
   "metadata": {},
   "outputs": [
    {
     "data": {
      "text/plain": [
       "array([40.04707797, 42.85945034, 28.97803305, 41.05037491,  5.09737246,\n",
       "       28.04496841, 34.97789784, 27.21962888, 42.57136279, 32.53596587,\n",
       "       47.83645378, 47.02526854, 45.12899916, 30.22630035, 32.96087222,\n",
       "       29.0081312 , 42.09501134, 37.09721741, 31.8802606 , 38.43534177,\n",
       "       41.06624201, 43.95244484, 46.93108766, 50.22929503, 42.81546659,\n",
       "       45.83266517, 33.7896518 , 47.25863054, 51.1983237 , 45.395444  ,\n",
       "       44.09395526, 40.9829865 , 35.90129728, 47.76589393, 46.42892944,\n",
       "       43.36526347, 16.03063541, 32.84159874, 33.07721084, 40.15698732,\n",
       "       32.67253655, 32.36408185, 51.69835456, 45.61945826, 38.80841547,\n",
       "       44.47502033, 41.05037491, 51.52241956, 34.72594421, 35.33506821,\n",
       "       39.54632503, 32.0561956 , 28.01933715, 37.74575475, 33.94247638,\n",
       "       11.84760273, 42.48697421, 31.70295204, 40.5426288 , 38.85703051,\n",
       "       42.9147787 , 35.37925172, 24.16722443, 13.82431015, 17.16757454,\n",
       "       39.78909728, 16.44640104, 43.51518647, 16.45461843, 45.3295027 ,\n",
       "       11.62576214, 15.90886248, 47.44601278, 32.96087222, 28.96414745,\n",
       "       45.96461642, 32.31443789, 32.65054468, 41.98468029, 40.15698732,\n",
       "       50.31931707, 31.20475999, 35.70962291, 42.42099858, 32.01044086,\n",
       "       42.77148284, 32.02248788, 43.37806427, 42.50896609, 45.35149457,\n",
       "       41.52553342, 35.09810386, 32.80465942, 42.22696259, 31.52619092,\n",
       "       32.1693435 , 31.70295204, 37.73840221, 27.96756034, 50.94729972,\n",
       "       45.68543388, 46.17658543, 49.48198942, 15.85470041, 47.76589393,\n",
       "       49.61394067, 40.09268481, 37.46514866, 41.16887235, 15.88687061,\n",
       "       31.12025176, 42.16826489, 42.85945034, 41.69149301, 38.71637303,\n",
       "       41.45028938, 42.05102759, 45.440747  , 30.24878109, 37.88629226,\n",
       "       46.82598155, 47.28532257, 49.63593255, 37.26242098, 15.81685404,\n",
       "       32.36203672, 35.98438941, 34.06575904, 29.46595973, 42.92542596,\n",
       "       45.75679112, 39.21263555, 36.08427014, 41.73446238, 40.44359514,\n",
       "        4.26469578, 29.62158642, 42.1025355 , 35.83532166, 36.44358036,\n",
       "       29.82551117, 43.41944967, 48.07326335, 43.32127972, 26.99573118,\n",
       "       45.57269825, 42.81546659, 51.6117927 , 31.72494392, 25.30627776,\n",
       "       30.38539312, 45.57547451, 46.77714453, 36.41469895, 48.05127148,\n",
       "       38.6984561 , 31.52619092, 15.98665166,  6.29647174, 47.49508449,\n",
       "       51.54441143, 42.88144221, 40.74529992, 30.24665036, 44.00189256,\n",
       "       32.70132278, 39.15480012, 39.11706767, 44.23945132, 50.92535179,\n",
       "       30.3708948 , 46.34096194, 43.170133  , 31.04091396, 41.40471309,\n",
       "       43.19212488, 11.53814882, 46.20718033, 31.63105881, 31.83787035,\n",
       "       42.35502296, 45.08501541, 40.15698732, 42.81546659, 46.97971052,\n",
       "       34.80084571, 42.40275261, 47.08639326, 39.10267617, 29.13197618,\n",
       "       40.20454141, 27.97586229, 31.79171349, 42.64729512, 37.02967136,\n",
       "       43.38529658, 41.40471309, 35.91075381, 44.19233196, 45.08501541,\n",
       "       46.98128479, 34.38634059, 38.67238928, 27.13166138, 11.47217319,\n",
       "       30.54061476, 43.97930247, 51.01331929, 45.11281921, 43.93507573,\n",
       "       41.31058176, 32.93888034, 46.89331729, 31.83569724, 38.81304676,\n",
       "       41.05037491, 31.90176108, 27.76883947, 33.3984689 , 40.15698732,\n",
       "       30.79424114, 45.78878376, 18.83502181, 47.76589393, 27.68087197,\n",
       "       45.53149076,  6.34045549, 28.01308904, 47.76589393,  1.782371  ,\n",
       "       17.79160874, 31.54320204, 43.46172616, 37.701771  , 31.05652987,\n",
       "       44.6367077 , 31.85768912, 39.05672615, 42.00947606, 21.70274287,\n",
       "       46.37721518, 44.74156053, 32.71669192, 37.5342348 , 33.8365333 ,\n",
       "       45.87929958, 47.07454198, 41.18583041, 45.64145013, 45.89527189,\n",
       "       40.89548754, 42.35502296, 42.6880596 , 48.29152687, 47.87755054,\n",
       "       51.47843581, 38.78892877, 29.47231762, 48.05127148, 42.42099858,\n",
       "       45.75524867, 32.93212464, 32.76050406, 43.33408052, 32.03243274,\n",
       "       29.90677537, 45.75836645, 29.53193535, 22.53960535, 32.82665129,\n",
       "       30.85182183, 51.47843581, 32.65054468, 42.44299046, 30.51029003,\n",
       "       45.68543388, 44.69757678, 13.13864232, 30.87164407, 37.51224293,\n",
       "       51.6117927 , 51.67636268, 32.60656093, 44.78554428, 16.45461843,\n",
       "       13.39561343, 11.38957811, 34.39451072, 43.33015993, 48.42453431,\n",
       "       33.23586065, 37.75981248, 43.56702817, 42.6964067 , 32.13244726,\n",
       "       42.05102759, 38.72507925, 42.37002013, 42.35502296, 48.05127148,\n",
       "       16.49860218, 40.00926545, 36.34346926, 48.21465108, 31.72352394,\n",
       "       51.52241956, 37.62786122, 31.04091396, 28.18941505, 43.97462872,\n",
       "       43.64567134, 37.76498313, 46.1074193 , 42.85945034, 15.75087842,\n",
       "       37.57549768, 33.93666657, 50.30877712, 45.19192937, 11.9172637 ,\n",
       "       30.33428665, 38.07309136, 32.58456905, 41.9045466 , 38.90123833,\n",
       "       51.50042768, 26.00483899, 41.28858988, 36.98568761, 31.26622377,\n",
       "       15.85470041, 32.05676405])"
      ]
     },
     "execution_count": 20,
     "metadata": {},
     "output_type": "execute_result"
    }
   ],
   "source": [
    "#9 Сделайте прогноз на тестовых данных\n",
    "predict = model.predict(xtest)\n",
    "predict"
   ]
  },
  {
   "cell_type": "code",
   "execution_count": 21,
   "id": "1b3a499e",
   "metadata": {},
   "outputs": [
    {
     "data": {
      "text/html": [
       "<div>\n",
       "<style scoped>\n",
       "    .dataframe tbody tr th:only-of-type {\n",
       "        vertical-align: middle;\n",
       "    }\n",
       "\n",
       "    .dataframe tbody tr th {\n",
       "        vertical-align: top;\n",
       "    }\n",
       "\n",
       "    .dataframe thead th {\n",
       "        text-align: right;\n",
       "    }\n",
       "</style>\n",
       "<table border=\"1\" class=\"dataframe\">\n",
       "  <thead>\n",
       "    <tr style=\"text-align: right;\">\n",
       "      <th></th>\n",
       "      <th>фактическим значение</th>\n",
       "      <th>прогнозируемым значение</th>\n",
       "    </tr>\n",
       "  </thead>\n",
       "  <tbody>\n",
       "    <tr>\n",
       "      <th>104</th>\n",
       "      <td>30.5</td>\n",
       "      <td>40.047078</td>\n",
       "    </tr>\n",
       "    <tr>\n",
       "      <th>305</th>\n",
       "      <td>55.0</td>\n",
       "      <td>42.859450</td>\n",
       "    </tr>\n",
       "    <tr>\n",
       "      <th>277</th>\n",
       "      <td>27.7</td>\n",
       "      <td>28.978033</td>\n",
       "    </tr>\n",
       "    <tr>\n",
       "      <th>373</th>\n",
       "      <td>52.2</td>\n",
       "      <td>41.050375</td>\n",
       "    </tr>\n",
       "    <tr>\n",
       "      <th>249</th>\n",
       "      <td>15.0</td>\n",
       "      <td>5.097372</td>\n",
       "    </tr>\n",
       "    <tr>\n",
       "      <th>...</th>\n",
       "      <td>...</td>\n",
       "      <td>...</td>\n",
       "    </tr>\n",
       "    <tr>\n",
       "      <th>287</th>\n",
       "      <td>32.9</td>\n",
       "      <td>41.288590</td>\n",
       "    </tr>\n",
       "    <tr>\n",
       "      <th>191</th>\n",
       "      <td>37.8</td>\n",
       "      <td>36.985688</td>\n",
       "    </tr>\n",
       "    <tr>\n",
       "      <th>118</th>\n",
       "      <td>30.6</td>\n",
       "      <td>31.266224</td>\n",
       "    </tr>\n",
       "    <tr>\n",
       "      <th>87</th>\n",
       "      <td>18.3</td>\n",
       "      <td>15.854700</td>\n",
       "    </tr>\n",
       "    <tr>\n",
       "      <th>22</th>\n",
       "      <td>24.6</td>\n",
       "      <td>32.056764</td>\n",
       "    </tr>\n",
       "  </tbody>\n",
       "</table>\n",
       "<p>332 rows × 2 columns</p>\n",
       "</div>"
      ],
      "text/plain": [
       "     фактическим значение  прогнозируемым значение\n",
       "104                  30.5                40.047078\n",
       "305                  55.0                42.859450\n",
       "277                  27.7                28.978033\n",
       "373                  52.2                41.050375\n",
       "249                  15.0                 5.097372\n",
       "..                    ...                      ...\n",
       "287                  32.9                41.288590\n",
       "191                  37.8                36.985688\n",
       "118                  30.6                31.266224\n",
       "87                   18.3                15.854700\n",
       "22                   24.6                32.056764\n",
       "\n",
       "[332 rows x 2 columns]"
      ]
     },
     "execution_count": 21,
     "metadata": {},
     "output_type": "execute_result"
    }
   ],
   "source": [
    "#9.1 Cоздайте таблицу, в которой будет отображена разница между фактическим значением и прогнозируемым значением.\n",
    "\n",
    "df = pd.DataFrame({'фактическим значение': ytest, 'прогнозируемым значение': predict})\n",
    "df"
   ]
  },
  {
   "cell_type": "code",
   "execution_count": 22,
   "id": "55acf942",
   "metadata": {},
   "outputs": [
    {
     "name": "stdout",
     "output_type": "stream",
     "text": [
      "Mean Squared Error(MSE):  92.65182087037219\n"
     ]
    }
   ],
   "source": [
    "#10 Оцените производительность алгоритма путем нахождения значения MSE\n",
    "from sklearn import metrics\n",
    "print(\"Mean Squared Error(MSE): \", metrics.mean_squared_error(ytest, predict))"
   ]
  },
  {
   "cell_type": "code",
   "execution_count": null,
   "id": "65e502d0",
   "metadata": {},
   "outputs": [],
   "source": []
  },
  {
   "cell_type": "code",
   "execution_count": null,
   "id": "63d4896c",
   "metadata": {},
   "outputs": [],
   "source": []
  }
 ],
 "metadata": {
  "kernelspec": {
   "display_name": "Python 3 (ipykernel)",
   "language": "python",
   "name": "python3"
  },
  "language_info": {
   "codemirror_mode": {
    "name": "ipython",
    "version": 3
   },
   "file_extension": ".py",
   "mimetype": "text/x-python",
   "name": "python",
   "nbconvert_exporter": "python",
   "pygments_lexer": "ipython3",
   "version": "3.11.3"
  }
 },
 "nbformat": 4,
 "nbformat_minor": 5
}
