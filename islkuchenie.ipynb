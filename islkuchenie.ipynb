{
 "cells": [
  {
   "cell_type": "code",
   "execution_count": 3,
   "id": "f98a0941",
   "metadata": {},
   "outputs": [
    {
     "name": "stdout",
     "output_type": "stream",
     "text": [
      "Нелья делить на ноль\n"
     ]
    }
   ],
   "source": [
    "try:\n",
    "    print(2/0)\n",
    "except ZeroDivisionError:\n",
    "    print(\"Нелья делить на ноль\")"
   ]
  },
  {
   "cell_type": "code",
   "execution_count": 5,
   "id": "8e8ad1ba",
   "metadata": {},
   "outputs": [
    {
     "name": "stdout",
     "output_type": "stream",
     "text": [
      "Простой калькулатор\n",
      "Команда позволить остановить работу\n",
      "\n",
      "Введите первое число: 5\n",
      "Введите второе число: 2\n",
      "2.5\n",
      "Hello\n",
      "\n",
      "Введите первое число: 2\n",
      "Введите второе число: 0,\n",
      "Нелья делить на ноль\n",
      "Введите первое число: quit\n"
     ]
    }
   ],
   "source": [
    "print(\"Простой калькулатор\")\n",
    "print(\"Команда позволить остановить работу\\n\")\n",
    "\n",
    "while True:\n",
    "    first_number = input(\"Введите первое число: \")\n",
    "    if first_number == 'quit':\n",
    "        break\n",
    "        \n",
    "    second_number = input(\"Введите второе число: \")\n",
    "    if second_number == 'quit':\n",
    "        break\n",
    "     \n",
    "    try:\n",
    "        answer = int(first_number)/int(second_number)\n",
    "    \n",
    "    except:\n",
    "        print(\"Нелья делить на ноль\")\n",
    "        \n",
    "    else:\n",
    "        print(answer)\n",
    "        print(\"Hello\\n\")"
   ]
  },
  {
   "cell_type": "code",
   "execution_count": 12,
   "id": "ebd2c360",
   "metadata": {},
   "outputs": [
    {
     "name": "stdout",
     "output_type": "stream",
     "text": [
      "Net takogo fayla\n"
     ]
    }
   ],
   "source": [
    "filename = 'usd.txt'\n",
    "\n",
    "try:\n",
    "    with open(filename) as p:\n",
    "        contents_0 = p.read()   \n",
    "    print(contents_0)\n",
    "    \n",
    "except: \n",
    "    print(\"Net takogo fayla\")"
   ]
  },
  {
   "cell_type": "code",
   "execution_count": 13,
   "id": "b743ba6e",
   "metadata": {},
   "outputs": [
    {
     "data": {
      "text/plain": [
       "'1.24.3'"
      ]
     },
     "execution_count": 13,
     "metadata": {},
     "output_type": "execute_result"
    }
   ],
   "source": [
    "import numpy\n",
    "numpy.__version__"
   ]
  },
  {
   "cell_type": "code",
   "execution_count": 14,
   "id": "cb629c62",
   "metadata": {},
   "outputs": [
    {
     "name": "stdout",
     "output_type": "stream",
     "text": [
      "Requirement already satisfied: numpy in c:\\users\\acer\\anaconda3\\lib\\site-packages (1.24.3)\n",
      "Note: you may need to restart the kernel to use updated packages.\n"
     ]
    }
   ],
   "source": [
    "pip install numpy"
   ]
  },
  {
   "cell_type": "code",
   "execution_count": 4,
   "id": "6de88793",
   "metadata": {},
   "outputs": [
    {
     "name": "stdout",
     "output_type": "stream",
     "text": [
      "[7 0 4 4 8 2]\n",
      "\n",
      "[[6 4 9 6]\n",
      " [8 7 0 8]\n",
      " [4 2 9 3]]\n",
      "\n",
      "[[[4 5 7 0 2]\n",
      "  [0 4 8 4 1]\n",
      "  [7 9 0 8 8]\n",
      "  [6 6 7 2 3]]\n",
      "\n",
      " [[4 3 6 7 4]\n",
      "  [4 7 4 2 1]\n",
      "  [8 5 8 7 4]\n",
      "  [9 7 6 7 0]]\n",
      "\n",
      " [[8 6 8 4 8]\n",
      "  [2 3 6 4 2]\n",
      "  [2 1 6 9 6]\n",
      "  [4 2 5 4 4]]]\n",
      "\n"
     ]
    }
   ],
   "source": [
    "import numpy as np\n",
    "\n",
    "x1 = np.random.randint(10, size = 6)\n",
    "x2 = np.random.randint(10, size = (3,4))\n",
    "x3 = np.random.randint(10, size = (3,4,5))\n",
    "\n",
    "print(x1)\n",
    "print()\n",
    "print(x2)\n",
    "print()\n",
    "print(x3)\n",
    "print()"
   ]
  },
  {
   "cell_type": "code",
   "execution_count": 26,
   "id": "fd112eaa",
   "metadata": {},
   "outputs": [
    {
     "name": "stdout",
     "output_type": "stream",
     "text": [
      "(3, 4, 5)\n"
     ]
    }
   ],
   "source": [
    "print(x3.shape)"
   ]
  },
  {
   "cell_type": "code",
   "execution_count": 27,
   "id": "c9440927",
   "metadata": {},
   "outputs": [
    {
     "name": "stdout",
     "output_type": "stream",
     "text": [
      "60\n"
     ]
    }
   ],
   "source": [
    "print(x3.size)"
   ]
  },
  {
   "cell_type": "code",
   "execution_count": 29,
   "id": "7c09b9e9",
   "metadata": {},
   "outputs": [
    {
     "name": "stdout",
     "output_type": "stream",
     "text": [
      "int32\n"
     ]
    }
   ],
   "source": [
    "print(x3.dtype)"
   ]
  },
  {
   "cell_type": "code",
   "execution_count": 33,
   "id": "9e50934a",
   "metadata": {},
   "outputs": [
    {
     "name": "stdout",
     "output_type": "stream",
     "text": [
      "3\n"
     ]
    }
   ],
   "source": [
    "print(x1[2])"
   ]
  },
  {
   "cell_type": "code",
   "execution_count": 40,
   "id": "7de0e197",
   "metadata": {},
   "outputs": [
    {
     "name": "stdout",
     "output_type": "stream",
     "text": [
      "0\n"
     ]
    }
   ],
   "source": [
    "print(x2[2,1])"
   ]
  },
  {
   "cell_type": "code",
   "execution_count": 41,
   "id": "78a74dba",
   "metadata": {},
   "outputs": [
    {
     "name": "stdout",
     "output_type": "stream",
     "text": [
      "[[1 5 0 1]\n",
      " [3 2 2 2]\n",
      " [1 0 3 4]]\n"
     ]
    }
   ],
   "source": [
    "print(x2)"
   ]
  },
  {
   "cell_type": "code",
   "execution_count": 43,
   "id": "b5f41c62",
   "metadata": {},
   "outputs": [
    {
     "name": "stdout",
     "output_type": "stream",
     "text": [
      "[[1 5 0 1]\n",
      " [3 2 2 2]\n",
      " [1 7 3 4]]\n"
     ]
    }
   ],
   "source": [
    "x2[2,1]=7\n",
    "print(x2)"
   ]
  },
  {
   "cell_type": "code",
   "execution_count": 45,
   "id": "1a0a2621",
   "metadata": {},
   "outputs": [
    {
     "name": "stdout",
     "output_type": "stream",
     "text": [
      "[0 1 2 3 4 5 6 7 8 9]\n"
     ]
    }
   ],
   "source": [
    "#x[начало:конец:шаг]\n",
    "x=np.arange(10)\n",
    "print(x)"
   ]
  },
  {
   "cell_type": "code",
   "execution_count": 52,
   "id": "e5573bcf",
   "metadata": {},
   "outputs": [
    {
     "name": "stdout",
     "output_type": "stream",
     "text": [
      "[0 1 2 3 4]\n",
      "[1 2 3 4]\n",
      "[0 3 6 9]\n",
      "[1 3 5 7 9]\n",
      "[0 2 4 6 8]\n"
     ]
    }
   ],
   "source": [
    "print(x[:5])\n",
    "print(x[1:5])\n",
    "print(x[0:10:3])\n",
    "print(x[1::2])\n",
    "print(x[::2])"
   ]
  },
  {
   "cell_type": "code",
   "execution_count": 53,
   "id": "b0ba66d0",
   "metadata": {},
   "outputs": [
    {
     "name": "stdout",
     "output_type": "stream",
     "text": [
      "[[1 5 0 1]\n",
      " [3 2 2 2]\n",
      " [1 7 3 4]]\n"
     ]
    }
   ],
   "source": [
    "print(x2)"
   ]
  },
  {
   "cell_type": "code",
   "execution_count": 56,
   "id": "3f2542c3",
   "metadata": {},
   "outputs": [
    {
     "name": "stdout",
     "output_type": "stream",
     "text": [
      "[[1 5 0]\n",
      " [3 2 2]]\n"
     ]
    }
   ],
   "source": [
    "print(x2[:2,:3])"
   ]
  },
  {
   "cell_type": "code",
   "execution_count": 57,
   "id": "01ca1f88",
   "metadata": {},
   "outputs": [
    {
     "name": "stdout",
     "output_type": "stream",
     "text": [
      "[[1 0]\n",
      " [3 2]\n",
      " [1 3]]\n"
     ]
    }
   ],
   "source": [
    "print(x2[:3,::2])"
   ]
  },
  {
   "cell_type": "code",
   "execution_count": 6,
   "id": "1f0074f5",
   "metadata": {},
   "outputs": [
    {
     "name": "stdout",
     "output_type": "stream",
     "text": [
      "[[6 4]\n",
      " [8 7]]\n",
      "[[6 4 9 6]\n",
      " [8 7 0 8]\n",
      " [4 2 9 3]]\n"
     ]
    }
   ],
   "source": [
    "x2_srez = x2[:2,:2]\n",
    "print(x2_srez)\n",
    "print(x2)"
   ]
  },
  {
   "cell_type": "code",
   "execution_count": 7,
   "id": "a0864cc4",
   "metadata": {},
   "outputs": [
    {
     "name": "stdout",
     "output_type": "stream",
     "text": [
      "[[15  4]\n",
      " [ 8  7]]\n",
      "[[15  4  9  6]\n",
      " [ 8  7  0  8]\n",
      " [ 4  2  9  3]]\n"
     ]
    }
   ],
   "source": [
    "x2_srez[0,0]=15\n",
    "print(x2_srez)\n",
    "print(x2)"
   ]
  },
  {
   "cell_type": "code",
   "execution_count": 10,
   "id": "b3b7bb65",
   "metadata": {},
   "outputs": [
    {
     "name": "stdout",
     "output_type": "stream",
     "text": [
      "[[1 4]\n",
      " [8 7]]\n",
      "[[0 4 9 6]\n",
      " [8 7 0 8]\n",
      " [4 2 9 3]]\n"
     ]
    }
   ],
   "source": [
    "x2_copy = x2[:2,:2].copy()\n",
    "x2_copy[0,0]=1\n",
    "print(x2_copy)\n",
    "print(x2)"
   ]
  },
  {
   "cell_type": "code",
   "execution_count": 11,
   "id": "b5726bd9",
   "metadata": {},
   "outputs": [
    {
     "name": "stdout",
     "output_type": "stream",
     "text": [
      "[1 2 3 4 5 6 7 8 9]\n"
     ]
    }
   ],
   "source": [
    "tabl = np.arange(1,10)\n",
    "print(tabl)"
   ]
  },
  {
   "cell_type": "code",
   "execution_count": 12,
   "id": "0c34f0e3",
   "metadata": {},
   "outputs": [
    {
     "name": "stdout",
     "output_type": "stream",
     "text": [
      "[[1 2 3]\n",
      " [4 5 6]\n",
      " [7 8 9]]\n"
     ]
    }
   ],
   "source": [
    "tabl = np.arange(1,10).reshape((3,3))\n",
    "print(tabl)"
   ]
  },
  {
   "cell_type": "code",
   "execution_count": 14,
   "id": "4fe68e80",
   "metadata": {},
   "outputs": [
    {
     "name": "stdout",
     "output_type": "stream",
     "text": [
      "[1 2 3]\n"
     ]
    }
   ],
   "source": [
    "x = np.array ([1,2,3])\n",
    "print(x)"
   ]
  },
  {
   "cell_type": "code",
   "execution_count": 16,
   "id": "941de79d",
   "metadata": {},
   "outputs": [
    {
     "data": {
      "text/plain": [
       "array([1, 2, 3])"
      ]
     },
     "execution_count": 16,
     "metadata": {},
     "output_type": "execute_result"
    }
   ],
   "source": [
    "x.reshape(1,3)\n",
    "x"
   ]
  },
  {
   "cell_type": "code",
   "execution_count": 17,
   "id": "e39a41d2",
   "metadata": {},
   "outputs": [
    {
     "data": {
      "text/plain": [
       "array([1, 2, 3])"
      ]
     },
     "execution_count": 17,
     "metadata": {},
     "output_type": "execute_result"
    }
   ],
   "source": [
    "x[np.newaxis, :]\n",
    "x"
   ]
  },
  {
   "cell_type": "code",
   "execution_count": 18,
   "id": "eb86e1c7",
   "metadata": {},
   "outputs": [
    {
     "name": "stdout",
     "output_type": "stream",
     "text": [
      "[1 2 3]\n"
     ]
    }
   ],
   "source": [
    "print(x)"
   ]
  },
  {
   "cell_type": "code",
   "execution_count": 19,
   "id": "32a12cf4",
   "metadata": {},
   "outputs": [
    {
     "data": {
      "text/plain": [
       "array([[1],\n",
       "       [2],\n",
       "       [3]])"
      ]
     },
     "execution_count": 19,
     "metadata": {},
     "output_type": "execute_result"
    }
   ],
   "source": [
    "x.reshape([3,1])"
   ]
  },
  {
   "cell_type": "code",
   "execution_count": 22,
   "id": "0158a8e5",
   "metadata": {},
   "outputs": [
    {
     "data": {
      "text/plain": [
       "array([1, 2, 3])"
      ]
     },
     "execution_count": 22,
     "metadata": {},
     "output_type": "execute_result"
    }
   ],
   "source": [
    "x[:, np.newaxis]\n",
    "x"
   ]
  },
  {
   "cell_type": "code",
   "execution_count": 25,
   "id": "d1f245de",
   "metadata": {},
   "outputs": [
    {
     "data": {
      "text/plain": [
       "array([1, 2, 3, 9, 8, 7])"
      ]
     },
     "execution_count": 25,
     "metadata": {},
     "output_type": "execute_result"
    }
   ],
   "source": [
    "x = np.array([1,2,3])\n",
    "y = np.array([9,8,7])\n",
    "\n",
    "np.concatenate([x,y])"
   ]
  },
  {
   "cell_type": "code",
   "execution_count": 37,
   "id": "78a80489",
   "metadata": {},
   "outputs": [
    {
     "data": {
      "text/plain": [
       "array([[1, 2, 3],\n",
       "       [4, 5, 6],\n",
       "       [7, 8, 9],\n",
       "       [4, 5, 6]])"
      ]
     },
     "execution_count": 37,
     "metadata": {},
     "output_type": "execute_result"
    }
   ],
   "source": [
    "dvuh = np.array([[1,2,3], [4,5,6]])\n",
    "dvuh_2 = np.array([[7,8,9], [4,5,6]])\n",
    "np.concatenate([dvuh, dvuh_2])"
   ]
  },
  {
   "cell_type": "code",
   "execution_count": 38,
   "id": "b51f5cef",
   "metadata": {},
   "outputs": [
    {
     "data": {
      "text/plain": [
       "array([[1, 2, 3, 7, 8, 9],\n",
       "       [4, 5, 6, 4, 5, 6]])"
      ]
     },
     "execution_count": 38,
     "metadata": {},
     "output_type": "execute_result"
    }
   ],
   "source": [
    "np.concatenate([dvuh, dvuh_2], axis=1)"
   ]
  },
  {
   "cell_type": "code",
   "execution_count": 39,
   "id": "277fbae4",
   "metadata": {},
   "outputs": [
    {
     "data": {
      "text/plain": [
       "array([[1, 2, 3],\n",
       "       [1, 2, 3],\n",
       "       [4, 5, 6]])"
      ]
     },
     "execution_count": 39,
     "metadata": {},
     "output_type": "execute_result"
    }
   ],
   "source": [
    "x = np.array([1,2,3])\n",
    "np.vstack([x, dvuh])"
   ]
  },
  {
   "cell_type": "code",
   "execution_count": 41,
   "id": "55406702",
   "metadata": {},
   "outputs": [
    {
     "data": {
      "text/plain": [
       "array([[1, 2, 3, 7, 8, 9],\n",
       "       [4, 5, 6, 4, 5, 6]])"
      ]
     },
     "execution_count": 41,
     "metadata": {},
     "output_type": "execute_result"
    }
   ],
   "source": [
    "np.hstack([dvuh, dvuh_2])"
   ]
  },
  {
   "cell_type": "code",
   "execution_count": 44,
   "id": "2abefb43",
   "metadata": {},
   "outputs": [
    {
     "name": "stdout",
     "output_type": "stream",
     "text": [
      "[1 2 3]\n",
      "[4]\n",
      "[5 6 7 8 9]\n"
     ]
    }
   ],
   "source": [
    "x = np.array([1,2,3,4,5,6,7,8,9])\n",
    "x1, x2, x3 = np.split(x, [3,4])\n",
    "\n",
    "print(x1)\n",
    "print(x2)\n",
    "print(x3)"
   ]
  },
  {
   "cell_type": "code",
   "execution_count": 45,
   "id": "1283092e",
   "metadata": {},
   "outputs": [
    {
     "name": "stdout",
     "output_type": "stream",
     "text": [
      "[[ 0  1  2  3]\n",
      " [ 4  5  6  7]\n",
      " [ 8  9 10 11]\n",
      " [12 13 14 15]]\n"
     ]
    }
   ],
   "source": [
    "kvadrat = np.arange(16).reshape([4,4])\n",
    "print(kvadrat)"
   ]
  },
  {
   "cell_type": "code",
   "execution_count": null,
   "id": "7b04aaf8",
   "metadata": {},
   "outputs": [],
   "source": []
  }
 ],
 "metadata": {
  "kernelspec": {
   "display_name": "Python 3 (ipykernel)",
   "language": "python",
   "name": "python3"
  },
  "language_info": {
   "codemirror_mode": {
    "name": "ipython",
    "version": 3
   },
   "file_extension": ".py",
   "mimetype": "text/x-python",
   "name": "python",
   "nbconvert_exporter": "python",
   "pygments_lexer": "ipython3",
   "version": "3.11.3"
  }
 },
 "nbformat": 4,
 "nbformat_minor": 5
}
