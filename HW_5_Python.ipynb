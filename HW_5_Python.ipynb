{
 "cells": [
  {
   "cell_type": "code",
   "execution_count": 1,
   "id": "55d51e44",
   "metadata": {},
   "outputs": [
    {
     "name": "stdout",
     "output_type": "stream",
     "text": [
      "Получил футболку с размером S, и надписью на ней Maradona\n"
     ]
    }
   ],
   "source": [
    "def make_shirt(size, text):\n",
    "    print(f\"Получил футболку с размером {size}, и надписью на ней {text}\")\n",
    "    \n",
    "make_shirt(\"S\", \"Maradona\")"
   ]
  },
  {
   "cell_type": "code",
   "execution_count": 2,
   "id": "9f17b791",
   "metadata": {},
   "outputs": [
    {
     "name": "stdout",
     "output_type": "stream",
     "text": [
      "Получил футболку с размером M, и надписью на ней Pele\n"
     ]
    }
   ],
   "source": [
    "make_shirt(size = \"M\", text = \"Pele\")"
   ]
  },
  {
   "cell_type": "code",
   "execution_count": 29,
   "id": "a8db41e3",
   "metadata": {},
   "outputs": [
    {
     "name": "stdout",
     "output_type": "stream",
     "text": [
      "Получил футболку с размером L, и надписью на ней I love Football\n",
      "Получил футболку с размером S, и надписью на ней Messi\n"
     ]
    }
   ],
   "source": [
    "make_shirt(size = 'L', text = 'I love Football') \n",
    "make_shirt(\"S\", \"Messi\")"
   ]
  },
  {
   "cell_type": "code",
   "execution_count": 34,
   "id": "76b0766e",
   "metadata": {},
   "outputs": [
    {
     "name": "stdout",
     "output_type": "stream",
     "text": [
      "{'artist_name': 'Frank Sinatra', 'album_name': 'New York'}\n",
      "{'artist_name': 'Frank Sinatra', 'album_name': 'My way'}\n",
      "{'artist_name': 'Usher', 'album_name': 'My Live'}\n"
     ]
    }
   ],
   "source": [
    "def make_album(artist, album ):\n",
    "    album = {'artist_name': artist, 'album_name': album}\n",
    "    return album\n",
    "\n",
    "asd1 = make_album (\"Frank Sinatra\", \"New York\")\n",
    "asd2 = make_album (\"Frank Sinatra\", \"My way\")\n",
    "asd3 = make_album (\"Usher\", \"My Live\")\n",
    "\n",
    "print(asd1)\n",
    "print(asd2)\n",
    "print(asd3)"
   ]
  },
  {
   "cell_type": "code",
   "execution_count": 37,
   "id": "aff09768",
   "metadata": {},
   "outputs": [
    {
     "name": "stdout",
     "output_type": "stream",
     "text": [
      "{'artist name': 'Usher', 'album name': 'Hard'}\n",
      "{'artist name': 'Akon', 'album name': 'Freedom', 'number of tracks': 5}\n"
     ]
    }
   ],
   "source": [
    "def make_album(artist, album, num = ''):\n",
    "    album = {'artist name': artist, 'album name': album}\n",
    "    if num:\n",
    "        album['number of tracks'] = num\n",
    "    return album\n",
    "\n",
    "asd1 = make_album (\"Usher\", \"Hard\")\n",
    "asd2 = make_album (\"Akon\", \"Freedom\", 5)\n",
    "\n",
    "print(asd1)\n",
    "print(asd2)"
   ]
  },
  {
   "cell_type": "code",
   "execution_count": 46,
   "id": "2ebcb04c",
   "metadata": {},
   "outputs": [
    {
     "name": "stdout",
     "output_type": "stream",
     "text": [
      "Введите имя исполнителя: akon\n",
      "Введите название альбома: my way\n",
      "akon my way\n",
      "Введите имя исполнителя: quit\n"
     ]
    }
   ],
   "source": [
    "def make_album_1 (artist, album):\n",
    "    album_1 = f\"{artist} {album}\"\n",
    "    return album_1\n",
    "\n",
    "while True:\n",
    "    artist = input(\"Введите имя исполнителя: \")\n",
    "    if artist == 'quit':\n",
    "        break\n",
    "        \n",
    "    album = input(\"Введите название альбома: \")\n",
    "    if album == 'quit':\n",
    "        break\n",
    "        \n",
    "    theme = make_album_1(artist, album) \n",
    "    print(theme)\n",
    "        \n",
    "    "
   ]
  },
  {
   "cell_type": "code",
   "execution_count": 1,
   "id": "77ae197c",
   "metadata": {},
   "outputs": [
    {
     "name": "stdout",
     "output_type": "stream",
     "text": [
      "Hello\n",
      "Wonderful\n",
      "World\n"
     ]
    }
   ],
   "source": [
    "spisok = ['Hello', 'Wonderful', 'World']\n",
    "def show_messeges(names):\n",
    "    for name in names:\n",
    "        print(name)\n",
    "    \n",
    "show_messeges(spisok)"
   ]
  },
  {
   "cell_type": "code",
   "execution_count": 4,
   "id": "e09e029d",
   "metadata": {},
   "outputs": [
    {
     "name": "stdout",
     "output_type": "stream",
     "text": [
      "hello\n",
      "world\n",
      "wonderful\n",
      "hello\n",
      "world\n",
      "wonderful\n"
     ]
    }
   ],
   "source": [
    "spisok = ['wonderful', 'world', 'hello']\n",
    "sent_messeges = []\n",
    "\n",
    "while spisok:\n",
    "        current = spisok.pop()\n",
    "        print(current)\n",
    "        sent_messeges.append(current)\n",
    "        \n",
    "for i in sent_messeges:\n",
    "    print(i)"
   ]
  },
  {
   "cell_type": "code",
   "execution_count": 5,
   "id": "07c3c8df",
   "metadata": {},
   "outputs": [
    {
     "name": "stdout",
     "output_type": "stream",
     "text": [
      "potato, orange\n",
      "cheeze, tomato, cheeze\n",
      "apple, cheeze, banana\n"
     ]
    }
   ],
   "source": [
    "def make_sandwich(*adds):\n",
    "    for add in adds:\n",
    "        print(add)\n",
    "        \n",
    "make_sandwich('potato, orange')  \n",
    "make_sandwich('cheeze, tomato, cheeze')\n",
    "make_sandwich('apple, cheeze, banana')"
   ]
  },
  {
   "cell_type": "code",
   "execution_count": 1,
   "id": "7e527308",
   "metadata": {},
   "outputs": [
    {
     "name": "stdout",
     "output_type": "stream",
     "text": [
      "3.1\n",
      "hello\n",
      "wonderful\n",
      "world\n",
      "3.2\n",
      "world\n",
      "wonderful\n",
      "hello\n",
      "3.3\n",
      "hello\n",
      "wonderful\n",
      "world\n",
      "world\n",
      "wonderful\n",
      "hello\n"
     ]
    }
   ],
   "source": [
    "def show_messages(messages):\n",
    "    for message in messages:\n",
    "        print(message)\n",
    "\n",
    "def send_messages(messages, sent_messages): \n",
    "    while messages:\n",
    "        sent_messages.append(messages.pop())\n",
    "        \n",
    "messages = ['hello', 'wonderful', 'world']\n",
    "sent_messages = []\n",
    "\n",
    "# 3.1\n",
    "print(\"3.1\")\n",
    "show_messages(messages)\n",
    "\n",
    "# 3.2\n",
    "print(\"3.2\")\n",
    "send_messages(messages, sent_messages)\n",
    "\n",
    "show_messages(messages)\n",
    "show_messages(sent_messages)\n",
    "\n",
    "# 3.3\n",
    "print(\"3.3\")\n",
    "messages = ['hello', 'wonderful', 'world']\n",
    "sent_messages = []\n",
    "\n",
    "send_messages(messages[:], sent_messages)\n",
    "\n",
    "show_messages(messages)\n",
    "show_messages(sent_messages)"
   ]
  },
  {
   "cell_type": "code",
   "execution_count": null,
   "id": "cac1940d",
   "metadata": {},
   "outputs": [],
   "source": []
  }
 ],
 "metadata": {
  "kernelspec": {
   "display_name": "Python 3 (ipykernel)",
   "language": "python",
   "name": "python3"
  },
  "language_info": {
   "codemirror_mode": {
    "name": "ipython",
    "version": 3
   },
   "file_extension": ".py",
   "mimetype": "text/x-python",
   "name": "python",
   "nbconvert_exporter": "python",
   "pygments_lexer": "ipython3",
   "version": "3.11.3"
  }
 },
 "nbformat": 4,
 "nbformat_minor": 5
}
