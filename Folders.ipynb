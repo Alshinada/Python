{
 "cells": [
  {
   "cell_type": "code",
   "execution_count": 8,
   "id": "86e5befd",
   "metadata": {},
   "outputs": [
    {
     "name": "stdout",
     "output_type": "stream",
     "text": [
      "3.14256874\n",
      "1258963147\n",
      "123456789011\n"
     ]
    }
   ],
   "source": [
    "with open(\"Yeni klasör/pi_digits.txt\") as file_object:\n",
    "        contents = file_object.read()\n",
    "    \n",
    "print(contents)"
   ]
  },
  {
   "cell_type": "code",
   "execution_count": 9,
   "id": "ac4e09fd",
   "metadata": {},
   "outputs": [
    {
     "name": "stdout",
     "output_type": "stream",
     "text": [
      "3.14256874\n",
      "1258963147\n",
      "123456789011\n"
     ]
    }
   ],
   "source": [
    "print(contents.strip())"
   ]
  },
  {
   "cell_type": "code",
   "execution_count": 10,
   "id": "4ccf513e",
   "metadata": {},
   "outputs": [],
   "source": [
    "filename = \"text_file.txt\"\n",
    "with open (filename, 'w') as file_object:\n",
    "    file_object.write(\"I love Python\\n\")\n",
    "    file_object.write(str(5))\n",
    "    file_object.write(\"\\nI love Java\")"
   ]
  },
  {
   "cell_type": "code",
   "execution_count": 6,
   "id": "f27ffc1d",
   "metadata": {},
   "outputs": [],
   "source": [
    "filename = \"text_file_2.txt\"\n",
    "with open (filename, 'a') as file_object:\n",
    "    file_object.write(\"I love C++\\n\")\n",
    "    file_object.write(\"I love PHP\")\n"
   ]
  },
  {
   "cell_type": "code",
   "execution_count": null,
   "id": "60e31b8e",
   "metadata": {},
   "outputs": [],
   "source": []
  }
 ],
 "metadata": {
  "kernelspec": {
   "display_name": "Python 3 (ipykernel)",
   "language": "python",
   "name": "python3"
  },
  "language_info": {
   "codemirror_mode": {
    "name": "ipython",
    "version": 3
   },
   "file_extension": ".py",
   "mimetype": "text/x-python",
   "name": "python",
   "nbconvert_exporter": "python",
   "pygments_lexer": "ipython3",
   "version": "3.11.3"
  }
 },
 "nbformat": 4,
 "nbformat_minor": 5
}
