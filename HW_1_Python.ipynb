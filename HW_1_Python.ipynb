{
 "cells": [
  {
   "cell_type": "code",
   "execution_count": 1,
   "id": "e5a5e870",
   "metadata": {},
   "outputs": [
    {
     "name": "stdout",
     "output_type": "stream",
     "text": [
      "Jupiter\n"
     ]
    }
   ],
   "source": [
    "print(\"Jupiter\")"
   ]
  },
  {
   "cell_type": "code",
   "execution_count": 2,
   "id": "27b927b5",
   "metadata": {},
   "outputs": [
    {
     "name": "stdout",
     "output_type": "stream",
     "text": [
      "Jupiter\n"
     ]
    }
   ],
   "source": [
    "planet = \"Jupiter\"\n",
    "print(word)"
   ]
  },
  {
   "cell_type": "code",
   "execution_count": 4,
   "id": "2f523c2b",
   "metadata": {},
   "outputs": [
    {
     "name": "stdout",
     "output_type": "stream",
     "text": [
      "JUPITER\n"
     ]
    }
   ],
   "source": [
    "planet = \"Jupiter\"\n",
    "print(planet.upper())"
   ]
  },
  {
   "cell_type": "code",
   "execution_count": 5,
   "id": "a6e001c2",
   "metadata": {},
   "outputs": [
    {
     "name": "stdout",
     "output_type": "stream",
     "text": [
      "jupiter\n"
     ]
    }
   ],
   "source": [
    "planet = \"Jupiter\"\n",
    "print(planet.lower())"
   ]
  },
  {
   "cell_type": "code",
   "execution_count": 6,
   "id": "b9ea2fdb",
   "metadata": {},
   "outputs": [
    {
     "name": "stdout",
     "output_type": "stream",
     "text": [
      "Jupiter\n"
     ]
    }
   ],
   "source": [
    "planet = \"jupiter\"\n",
    "print(planet.title())"
   ]
  },
  {
   "cell_type": "code",
   "execution_count": 11,
   "id": "29b119a1",
   "metadata": {},
   "outputs": [
    {
     "name": "stdout",
     "output_type": "stream",
     "text": [
      "Darikha Akhmedova\n"
     ]
    }
   ],
   "source": [
    "f_name = \"darikha\"\n",
    "l_name = \"akhmedova\"\n",
    "full_name = f_name + \" \" + l_name\n",
    "print(full_name.title())"
   ]
  },
  {
   "cell_type": "code",
   "execution_count": 43,
   "id": "6fa61104",
   "metadata": {},
   "outputs": [
    {
     "name": "stdout",
     "output_type": "stream",
     "text": [
      "D\n",
      "\ta \n",
      "\t\tr \n",
      "\t\t\ti \n",
      "\t\t\t\tk \n",
      "\t\t\t\t\th \n",
      "\t\t\t\t\t\ta\n"
     ]
    }
   ],
   "source": [
    "print(\"D\\n\\ta \\n\\t\\tr \\n\\t\\t\\ti \\n\\t\\t\\t\\tk \\n\\t\\t\\t\\t\\th \\n\\t\\t\\t\\t\\t\\ta\")"
   ]
  },
  {
   "cell_type": "code",
   "execution_count": 47,
   "id": "622d0795",
   "metadata": {},
   "outputs": [
    {
     "name": "stdout",
     "output_type": "stream",
     "text": [
      "D\n",
      " a \n",
      "  r \n",
      "   i \n",
      "    k \n",
      "     h \n",
      "      a\n"
     ]
    }
   ],
   "source": [
    "print(\"D\\n \"\"a \\n  \"\"r \\n  \"\" i \\n    \"\"k \\n     \"\"h \\n      \"\"a\")"
   ]
  },
  {
   "cell_type": "code",
   "execution_count": 56,
   "id": "380c8f97",
   "metadata": {},
   "outputs": [
    {
     "name": "stdout",
     "output_type": "stream",
     "text": [
      "Мое любимое число: 5\n"
     ]
    }
   ],
   "source": [
    "number = \"5\"\n",
    "word = \"Мое любимое число:\"\n",
    "n_word = word +\" \"+ number\n",
    "print(n_word)"
   ]
  },
  {
   "cell_type": "code",
   "execution_count": 59,
   "id": "6189ab74",
   "metadata": {},
   "outputs": [
    {
     "name": "stdout",
     "output_type": "stream",
     "text": [
      "8\n",
      "8\n",
      "8\n",
      "8.0\n"
     ]
    }
   ],
   "source": [
    "print(4+4)\n",
    "print(12-4)\n",
    "print(4*2)\n",
    "print(24/3) "
   ]
  }
 ],
 "metadata": {
  "kernelspec": {
   "display_name": "Python 3 (ipykernel)",
   "language": "python",
   "name": "python3"
  },
  "language_info": {
   "codemirror_mode": {
    "name": "ipython",
    "version": 3
   },
   "file_extension": ".py",
   "mimetype": "text/x-python",
   "name": "python",
   "nbconvert_exporter": "python",
   "pygments_lexer": "ipython3",
   "version": "3.11.3"
  }
 },
 "nbformat": 4,
 "nbformat_minor": 5
}
