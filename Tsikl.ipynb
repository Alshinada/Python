{
 "cells": [
  {
   "cell_type": "code",
   "execution_count": 5,
   "id": "3c7a2b4b",
   "metadata": {},
   "outputs": [
    {
     "name": "stdout",
     "output_type": "stream",
     "text": [
      "Gerrard\n",
      "Messi\n",
      "Ronaldo\n",
      "Kante\n",
      "Kepa\n",
      "5\n"
     ]
    }
   ],
   "source": [
    "footballers = ['Gerrard', 'Messi', 'Ronaldo', 'Kante', 'Kepa']\n",
    "count = 0\n",
    "\n",
    "for player in footballers:\n",
    "    print(player)\n",
    "    count +=1\n",
    "\n",
    "print(count)"
   ]
  },
  {
   "cell_type": "code",
   "execution_count": 14,
   "id": "84172de0",
   "metadata": {},
   "outputs": [
    {
     "name": "stdout",
     "output_type": "stream",
     "text": [
      "1\n",
      "2\n",
      "3\n",
      "4\n"
     ]
    }
   ],
   "source": [
    "for tsifri in range (1, 5):\n",
    "\n",
    "    print(tsifri)"
   ]
  },
  {
   "cell_type": "code",
   "execution_count": 15,
   "id": "c0b02619",
   "metadata": {},
   "outputs": [
    {
     "name": "stdout",
     "output_type": "stream",
     "text": [
      "[1, 2, 3, 4, 5]\n"
     ]
    }
   ],
   "source": [
    "numbers = list(range(1, 6))\n",
    "print(numbers)\n",
    "\n",
    "\n"
   ]
  },
  {
   "cell_type": "code",
   "execution_count": 16,
   "id": "f8ac4d14",
   "metadata": {},
   "outputs": [
    {
     "name": "stdout",
     "output_type": "stream",
     "text": [
      "[2, 4, 6, 8, 10]\n"
     ]
    }
   ],
   "source": [
    "even = list(range(2, 11, 2))\n",
    "print(even)"
   ]
  },
  {
   "cell_type": "code",
   "execution_count": 18,
   "id": "61f8c5e4",
   "metadata": {},
   "outputs": [
    {
     "name": "stdout",
     "output_type": "stream",
     "text": [
      "[1, 3, 5, 7, 9]\n"
     ]
    }
   ],
   "source": [
    "odd = list(range(1, 11, 2))\n",
    "print(odd)"
   ]
  },
  {
   "cell_type": "code",
   "execution_count": 1,
   "id": "93dcb175",
   "metadata": {},
   "outputs": [
    {
     "name": "stdout",
     "output_type": "stream",
     "text": [
      "[1, 4, 9, 16, 25, 36, 49, 64, 81, 100]\n"
     ]
    }
   ],
   "source": [
    "squares = []\n",
    "for ada in range(1, 11):\n",
    "    squares.append(ada**2)\n",
    "    \n",
    "print(squares)"
   ]
  },
  {
   "cell_type": "code",
   "execution_count": 25,
   "id": "be337f7a",
   "metadata": {},
   "outputs": [
    {
     "data": {
      "text/plain": [
       "1"
      ]
     },
     "execution_count": 25,
     "metadata": {},
     "output_type": "execute_result"
    }
   ],
   "source": [
    "min(squares)"
   ]
  },
  {
   "cell_type": "code",
   "execution_count": 26,
   "id": "bd1b841f",
   "metadata": {},
   "outputs": [
    {
     "data": {
      "text/plain": [
       "100"
      ]
     },
     "execution_count": 26,
     "metadata": {},
     "output_type": "execute_result"
    }
   ],
   "source": [
    "max(squares)"
   ]
  },
  {
   "cell_type": "code",
   "execution_count": 27,
   "id": "ee1864a9",
   "metadata": {},
   "outputs": [
    {
     "data": {
      "text/plain": [
       "385"
      ]
     },
     "execution_count": 27,
     "metadata": {},
     "output_type": "execute_result"
    }
   ],
   "source": [
    "sum(squares)"
   ]
  },
  {
   "cell_type": "code",
   "execution_count": 32,
   "id": "e38ae068",
   "metadata": {},
   "outputs": [
    {
     "name": "stdout",
     "output_type": "stream",
     "text": [
      "['Ronaldo', 'Messi', 'Kepa']\n",
      "['Messi', 'Kepa', 'Gerrard']\n",
      "['Ronaldo', 'Messi', 'Kepa', 'Gerrard']\n",
      "['Messi', 'Kepa', 'Gerrard']\n"
     ]
    }
   ],
   "source": [
    "players = ['Ronaldo', 'Messi', 'Kepa', 'Gerrard']\n",
    "print(players[0:3])\n",
    "print(players[1:4])\n",
    "print(players[:4])\n",
    "print(players[1:])"
   ]
  },
  {
   "cell_type": "code",
   "execution_count": 35,
   "id": "148e408c",
   "metadata": {},
   "outputs": [
    {
     "name": "stdout",
     "output_type": "stream",
     "text": [
      "Ronaldo\n",
      "Messi\n",
      "Kepa\n"
     ]
    }
   ],
   "source": [
    "for i in players[:3]:\n",
    "    print(i.title())"
   ]
  },
  {
   "cell_type": "code",
   "execution_count": 75,
   "id": "d182b646",
   "metadata": {},
   "outputs": [
    {
     "name": "stdout",
     "output_type": "stream",
     "text": [
      "['Gerrard', 'Sancho', 'Henderson']\n",
      "['Gerrard', 'Sancho', 'Henderson']\n",
      "['Sogho', 'Ronaldo', 'Fred']\n"
     ]
    }
   ],
   "source": [
    "fav_players_me =['Gerrard', 'Sancho', 'Henderson']\n",
    "\n",
    "fav_players_friend =['Sogho', 'Ronaldo', 'Fred']\n",
    "\n",
    "fav_players_bro = fav_players_me[:]\n",
    "\n",
    "print(fav_players_me)\n",
    "print(fav_players_bro)\n",
    "print(fav_players_friend)"
   ]
  },
  {
   "cell_type": "code",
   "execution_count": 70,
   "id": "db14b15f",
   "metadata": {},
   "outputs": [
    {
     "name": "stdout",
     "output_type": "stream",
     "text": [
      "['Gerrard', 'Sancho', 'Henderson', 'Cautio']\n",
      "['Gerrard', 'Sancho', 'Henderson', 'Monamisso']\n"
     ]
    }
   ],
   "source": [
    "fav_players_me.append('Cautio')\n",
    "fav_players_bro.append('Monamisso')\n",
    "\n",
    "print(fav_players_me)\n",
    "print(fav_players_bro)"
   ]
  },
  {
   "cell_type": "code",
   "execution_count": 76,
   "id": "ebc276a3",
   "metadata": {},
   "outputs": [
    {
     "name": "stdout",
     "output_type": "stream",
     "text": [
      "['Gerrard', 'Sancho', 'Henderson']\n",
      "['Gerrard', 'Sancho', 'Henderson']\n"
     ]
    }
   ],
   "source": [
    "fav_players_bro2 = fav_players_me\n",
    "\n",
    "print(fav_players_me)\n",
    "print(fav_players_bro2)"
   ]
  },
  {
   "cell_type": "code",
   "execution_count": 78,
   "id": "17be5b7d",
   "metadata": {},
   "outputs": [
    {
     "name": "stdout",
     "output_type": "stream",
     "text": [
      "1\n",
      "2\n",
      "3\n",
      "4\n",
      "5\n"
     ]
    }
   ],
   "source": [
    "number = 1\n",
    "while number <= 5:\n",
    "    print(number)\n",
    "    number +=1\n"
   ]
  },
  {
   "cell_type": "code",
   "execution_count": 6,
   "id": "136dbb17",
   "metadata": {},
   "outputs": [
    {
     "name": "stdout",
     "output_type": "stream",
     "text": [
      "Write me smth. If you write quite, I will stop  holu\n",
      "Write me smth. If you write quite, I will stop  jd\n",
      "Write me smth. If you write quite, I will stop  quite\n"
     ]
    }
   ],
   "source": [
    "propet = \"Write me smth. \"\n",
    "propet += \"If you write quite, I will stop  \"\n",
    "\n",
    "\n",
    "while message != 'quite' :\n",
    "    message = input(propet)\n",
    "\n",
    "if message != 'quite':\n",
    "    print(message)\n",
    "    "
   ]
  },
  {
   "cell_type": "code",
   "execution_count": 7,
   "id": "a05872ba",
   "metadata": {},
   "outputs": [
    {
     "name": "stdout",
     "output_type": "stream",
     "text": [
      "Write me smth. If you write quite, I will stop  draeg\n",
      "draeg\n",
      "Write me smth. If you write quite, I will stop  vgj\n",
      "vgj\n",
      "Write me smth. If you write quite, I will stop  quite\n",
      "You wrote to stop\n"
     ]
    }
   ],
   "source": [
    "flag = True\n",
    "while flag:\n",
    "    messege = input(propet)\n",
    "    \n",
    "    if messege == 'quite':\n",
    "        print(\"You wrote to stop\")\n",
    "        flag = False\n",
    "\n",
    "    else:\n",
    "        print(messege)"
   ]
  },
  {
   "cell_type": "code",
   "execution_count": 8,
   "id": "b7cf88e3",
   "metadata": {},
   "outputs": [
    {
     "name": "stdout",
     "output_type": "stream",
     "text": [
      "Write me smth. If you write quite, I will stop  tyryky\n",
      "tyryky\n",
      "Hello\n",
      "Write me smth. If you write quite, I will stop  rgj\n",
      "rgj\n",
      "Hello\n",
      "Write me smth. If you write quite, I will stop  quite\n",
      "You wrote to stop\n"
     ]
    }
   ],
   "source": [
    "while True:\n",
    "    messege = input(propet)\n",
    "    \n",
    "    if messege == 'quite':\n",
    "        print(\"You wrote to stop\")\n",
    "        break\n",
    "        \n",
    "    elif messege == 'check-out':\n",
    "        print(\"You wrote to stop in english\")\n",
    "        break\n",
    "        \n",
    "    else:\n",
    "        print(messege)\n",
    "        print(\"Hello\")"
   ]
  },
  {
   "cell_type": "code",
   "execution_count": 47,
   "id": "3493b6ba",
   "metadata": {},
   "outputs": [
    {
     "name": "stdout",
     "output_type": "stream",
     "text": [
      "Write me smth. If you write quite, I will stop  fvsafjlsfm\n",
      "fvsafjlsfm\n",
      "Hello\n",
      "Write me smth. If you write quite, I will stop  sfksd\n",
      "sfksd\n",
      "Hello\n",
      "Write me smth. If you write quite, I will stop  quite\n",
      "You wrote to stop\n",
      "Hello\n"
     ]
    }
   ],
   "source": [
    "flag = True\n",
    "while flag:\n",
    "    messege = input(propet)\n",
    "    \n",
    "    if messege == 'quite':\n",
    "        print(\"You wrote to stop\")\n",
    "        flag = False\n",
    "        \n",
    "    elif messege == 'check-out':\n",
    "        print(\"You wrote to stop in english\")\n",
    "        flag = False\n",
    "        \n",
    "    else:\n",
    "        print(messege)\n",
    "    print(\"Hello\")"
   ]
  },
  {
   "cell_type": "code",
   "execution_count": 51,
   "id": "fb16d371",
   "metadata": {},
   "outputs": [
    {
     "name": "stdout",
     "output_type": "stream",
     "text": [
      "1\n",
      "3\n",
      "5\n",
      "7\n",
      "9\n",
      "11\n"
     ]
    }
   ],
   "source": [
    "current_number = 0\n",
    "while current_number <= 10:\n",
    "    current_number +=1\n",
    "    if current_number %2 == 0:\n",
    "        continue\n",
    "        \n",
    "    print(current_number)\n",
    "    "
   ]
  },
  {
   "cell_type": "code",
   "execution_count": null,
   "id": "3e1e3e63",
   "metadata": {},
   "outputs": [],
   "source": []
  },
  {
   "cell_type": "code",
   "execution_count": null,
   "id": "b54fd6c6",
   "metadata": {},
   "outputs": [],
   "source": []
  }
 ],
 "metadata": {
  "kernelspec": {
   "display_name": "Python 3 (ipykernel)",
   "language": "python",
   "name": "python3"
  },
  "language_info": {
   "codemirror_mode": {
    "name": "ipython",
    "version": 3
   },
   "file_extension": ".py",
   "mimetype": "text/x-python",
   "name": "python",
   "nbconvert_exporter": "python",
   "pygments_lexer": "ipython3",
   "version": "3.11.3"
  }
 },
 "nbformat": 4,
 "nbformat_minor": 5
}
