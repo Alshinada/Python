{
 "cells": [
  {
   "cell_type": "code",
   "execution_count": 4,
   "id": "343f0ebe",
   "metadata": {},
   "outputs": [
    {
     "name": "stdout",
     "output_type": "stream",
     "text": [
      "В Python ты можешь работать с классами\n",
      "В Python ты можешь использовать циклы\n",
      "В Python ты можешь определить операторы разветвления\n"
     ]
    }
   ],
   "source": [
    "#1\n",
    "with open(\"learning_python.txt\", encoding=\"utf-8\") as file_object:\n",
    "        contents = file_object.read()\n",
    "    \n",
    "print(contents)"
   ]
  },
  {
   "cell_type": "code",
   "execution_count": 5,
   "id": "ebcde6c0",
   "metadata": {},
   "outputs": [
    {
     "name": "stdout",
     "output_type": "stream",
     "text": [
      "В Python ты можешь работать с классами\n",
      "В Python ты можешь использовать циклы\n",
      "В Python ты можешь определить операторы разветвления\n"
     ]
    }
   ],
   "source": [
    "print(contents.strip())\n"
   ]
  },
  {
   "cell_type": "code",
   "execution_count": 6,
   "id": "5f92a0c4",
   "metadata": {},
   "outputs": [
    {
     "name": "stdout",
     "output_type": "stream",
     "text": [
      "В Java ты можешь работать с классами\n",
      "В Java ты можешь использовать циклы\n",
      "В Java ты можешь определить операторы разветвления\n"
     ]
    }
   ],
   "source": [
    "#2\n",
    "with open (\"learning_python.txt\", encoding=\"utf-8\") as f:\n",
    "       old_data = f.read()\n",
    "\n",
    "new_data = old_data.replace('Python', 'Java')\n",
    "print(new_data)"
   ]
  },
  {
   "cell_type": "code",
   "execution_count": 8,
   "id": "6cd69cd0",
   "metadata": {},
   "outputs": [
    {
     "name": "stdout",
     "output_type": "stream",
     "text": [
      "В Python ты можешь работать с классами\n",
      "В Python ты можешь использовать циклы\n",
      "В Python ты можешь определить операторы разветвления\n"
     ]
    }
   ],
   "source": [
    "filename = 'learning_python.txt'\n",
    "\n",
    "with open(filename, encoding=\"utf-8\") as file_object:\n",
    "    contents = file_object.readlines()\n",
    "\n",
    "for line in contents:\n",
    "    print(line.strip())"
   ]
  },
  {
   "cell_type": "code",
   "execution_count": 19,
   "id": "00836c1f",
   "metadata": {},
   "outputs": [
    {
     "ename": "IndentationError",
     "evalue": "unexpected indent (3657283745.py, line 12)",
     "output_type": "error",
     "traceback": [
      "\u001b[1;36m  Cell \u001b[1;32mIn[19], line 12\u001b[1;36m\u001b[0m\n\u001b[1;33m    print(message)\u001b[0m\n\u001b[1;37m    ^\u001b[0m\n\u001b[1;31mIndentationError\u001b[0m\u001b[1;31m:\u001b[0m unexpected indent\n"
     ]
    }
   ],
   "source": [
    "filename = 'guests_book.txt'\n",
    "\n",
    "with open(filename, 'w', encoding=\"utf-8\") as file_object:\n",
    "\n",
    "    while True:\n",
    "        guest = input(\"Введите имя гостя: \")\n",
    "\n",
    "    if guest == 'quit':\n",
    "        break\n",
    "\n",
    "    message = f\"Приветствую вас, {guest.title()}\"\n",
    "        print(message)\n",
    "\n",
    "file_object.write(message + \"\\n\")"
   ]
  },
  {
   "cell_type": "code",
   "execution_count": 25,
   "id": "3ccb1fa6",
   "metadata": {},
   "outputs": [
    {
     "name": "stdout",
     "output_type": "stream",
     "text": [
      "Введите первое число: 5\n",
      "Введите второе число: 2\n",
      "Результат: 7\n"
     ]
    }
   ],
   "source": [
    "#5\n",
    "first_num = input(\"Введите первое число: \")\n",
    "try:\n",
    "    first_num = int(first_num)\n",
    "except ValueError:\n",
    "    print(\"Необходимо указать число\")\n",
    "else:\n",
    "    sec_num = input(\"Введите второе число: \")\n",
    "try:\n",
    "    sec_num = int(sec_num)\n",
    "except ValueError:\n",
    "    print(\"Необходимо указать число\")\n",
    "else:\n",
    "    answer = first_num + sec_num\n",
    "print(f\"Результат: {answer}\")"
   ]
  },
  {
   "cell_type": "code",
   "execution_count": null,
   "id": "ce9eeb8e",
   "metadata": {},
   "outputs": [],
   "source": []
  },
  {
   "cell_type": "code",
   "execution_count": null,
   "id": "58734509",
   "metadata": {},
   "outputs": [],
   "source": []
  },
  {
   "cell_type": "code",
   "execution_count": null,
   "id": "3d429e9a",
   "metadata": {},
   "outputs": [],
   "source": []
  }
 ],
 "metadata": {
  "kernelspec": {
   "display_name": "Python 3 (ipykernel)",
   "language": "python",
   "name": "python3"
  },
  "language_info": {
   "codemirror_mode": {
    "name": "ipython",
    "version": 3
   },
   "file_extension": ".py",
   "mimetype": "text/x-python",
   "name": "python",
   "nbconvert_exporter": "python",
   "pygments_lexer": "ipython3",
   "version": "3.11.3"
  }
 },
 "nbformat": 4,
 "nbformat_minor": 5
}
