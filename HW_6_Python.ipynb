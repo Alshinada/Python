{
 "cells": [
  {
   "cell_type": "code",
   "execution_count": 3,
   "id": "dce92b95",
   "metadata": {},
   "outputs": [
    {
     "name": "stdout",
     "output_type": "stream",
     "text": [
      "Футболист выступает за Liverpool\n",
      "В клубе Liverpool выступает Henderson\n",
      "Позиция Henderson - ЦП\n",
      "Футболист выступает за Chelsea\n",
      "В клубе Chelsea выступает Kante\n",
      "Позиция Kante - ЦOП\n"
     ]
    }
   ],
   "source": [
    "import football\n",
    "\n",
    "football.describe_player(\"Liverpool\", \"Henderson\", \"ЦП\")\n",
    "football.describe_player('Chelsea', 'Kante', 'ЦOП')"
   ]
  },
  {
   "cell_type": "code",
   "execution_count": 127,
   "id": "a2b67cd7",
   "metadata": {},
   "outputs": [
    {
     "name": "stdout",
     "output_type": "stream",
     "text": [
      "Футболист выступает за Liverpool\n",
      "В клубе Liverpool выступает Henderson\n",
      "Позиция Henderson - ЦП\n",
      "Футболист выступает за Chelsea\n",
      "В клубе Chelsea выступает Kante\n",
      "Позиция Kante - ЦOП\n"
     ]
    }
   ],
   "source": [
    "from football import describe_player\n",
    "describe_player(\"Liverpool\", \"Henderson\", \"ЦП\")\n",
    "describe_player('Chelsea', 'Kante', 'ЦOП')"
   ]
  },
  {
   "cell_type": "code",
   "execution_count": 17,
   "id": "72f9b6f3",
   "metadata": {},
   "outputs": [
    {
     "name": "stdout",
     "output_type": "stream",
     "text": [
      "Футболист выступает за Liverpool\n",
      "В клубе Liverpool выступает Henderson\n",
      "Позиция Henderson - ЦП\n",
      "Футболист выступает за Chelsea\n",
      "В клубе Chelsea выступает Kante\n",
      "Позиция Kante - ЦOП\n"
     ]
    }
   ],
   "source": [
    "from football import describe_player as dp\n",
    "dp (\"Liverpool\", \"Henderson\", \"ЦП\")\n",
    "dp('Chelsea', 'Kante', 'ЦOП')"
   ]
  },
  {
   "cell_type": "code",
   "execution_count": 18,
   "id": "88e42c8a",
   "metadata": {},
   "outputs": [
    {
     "name": "stdout",
     "output_type": "stream",
     "text": [
      "Футболист выступает за Liverpool\n",
      "В клубе Liverpool выступает Henderson\n",
      "Позиция Henderson - ЦП\n",
      "Футболист выступает за Chelsea\n",
      "В клубе Chelsea выступает Kante\n",
      "Позиция Kante - ЦOП\n"
     ]
    }
   ],
   "source": [
    "from football import*\n",
    "describe_player(\"Liverpool\", \"Henderson\", \"ЦП\")\n",
    "describe_player('Chelsea', 'Kante', 'ЦOП')"
   ]
  },
  {
   "cell_type": "code",
   "execution_count": 60,
   "id": "00aaf9da",
   "metadata": {},
   "outputs": [
    {
     "name": "stdout",
     "output_type": "stream",
     "text": [
      "Luckee\n",
      "Asian\n",
      "Название ресторана: Luckee, кухня: Asian\n",
      "Ресторан с названием Luckee открыт\n",
      "Название ресторана: Алые Паруса, кухня: Japanese\n",
      "Название ресторана: Del Papa, кухня: Italian\n"
     ]
    }
   ],
   "source": [
    "class Restaurant():\n",
    "    def __init__(self, restaurant_name, cuisine_type):\n",
    "        self.restaurant_name = restaurant_name\n",
    "        self.cuisine_type = cuisine_type\n",
    "        \n",
    "    def describe_restaurant(self): \n",
    "        print(f\"Название ресторана: {self.restaurant_name}, кухня: {self.cuisine_type}\")\n",
    "        \n",
    "    def open_restaurant(self):\n",
    "        print(f\"Ресторан с названием {self.restaurant_name} открыт\")\n",
    "                     \n",
    "restaurant = Restaurant(\"Luckee\", \"Asian\")\n",
    "print(restaurant.restaurant_name)\n",
    "print(restaurant.cuisine_type)\n",
    "\n",
    "restaurant.describe_restaurant()\n",
    "restaurant.open_restaurant()   \n",
    "          \n",
    "kyokuto = Restaurant(\"Алые Паруса\", \"Japanese\")\n",
    "tartufo = Restaurant(\"Del Papa\", \"Italian\")\n",
    "\n",
    "kyokuto.describe_restaurant() \n",
    "tartufo.describe_restaurant() \n"
   ]
  },
  {
   "cell_type": "code",
   "execution_count": 55,
   "id": "a0314fb7",
   "metadata": {},
   "outputs": [
    {
     "name": "stdout",
     "output_type": "stream",
     "text": [
      "0\n",
      "2\n",
      "4\n",
      "10\n"
     ]
    }
   ],
   "source": [
    "class Restaurant():\n",
    "    def __init__(self, restaurant_name, cuisine_type, number_served):\n",
    "        self.restaurant_name = restaurant_name\n",
    "        self.cuisine_type = cuisine_type\n",
    "        self.number_served = number_served\n",
    "        \n",
    "    def set_number_served(self, upd_number_served):\n",
    "        self.number_served = upd_number_served\n",
    "        \n",
    "    def increment_number_served(self, inc_number_served):\n",
    "        self.inc_number_served += inc_number_served\n",
    "        \n",
    "restaurant = Restaurant(\"Luckee\", \"Asian\", 0)\n",
    "restaurant_2 = Restaurant(\"Otau\", \"Kazakh\", 2)\n",
    "\n",
    "print(restaurant.number_served)\n",
    "print(restaurant_2.number_served)\n",
    "\n",
    "restaurant_2.number_served = 4\n",
    "print(restaurant_2.number_served)\n",
    "\n",
    "restaurant_2.number_served = 10\n",
    "print(restaurant_2.number_served)"
   ]
  },
  {
   "cell_type": "code",
   "execution_count": 68,
   "id": "675d5764",
   "metadata": {},
   "outputs": [
    {
     "ename": "AttributeError",
     "evalue": "'Restaurant' object has no attribute 'describe_restaurant'",
     "output_type": "error",
     "traceback": [
      "\u001b[1;31m---------------------------------------------------------------------------\u001b[0m",
      "\u001b[1;31mAttributeError\u001b[0m                            Traceback (most recent call last)",
      "Cell \u001b[1;32mIn[68], line 4\u001b[0m\n\u001b[0;32m      1\u001b[0m \u001b[38;5;28;01mimport\u001b[39;00m \u001b[38;5;21;01mrestaurant\u001b[39;00m \n\u001b[0;32m      3\u001b[0m restaurant_3 \u001b[38;5;241m=\u001b[39m restaurant\u001b[38;5;241m.\u001b[39mRestaurant(\u001b[38;5;124m\"\u001b[39m\u001b[38;5;124mburger king\u001b[39m\u001b[38;5;124m\"\u001b[39m, \u001b[38;5;124m\"\u001b[39m\u001b[38;5;124mfast food\u001b[39m\u001b[38;5;124m\"\u001b[39m)\n\u001b[1;32m----> 4\u001b[0m restaurant_3\u001b[38;5;241m.\u001b[39mdescribe_restaurant()\n",
      "\u001b[1;31mAttributeError\u001b[0m: 'Restaurant' object has no attribute 'describe_restaurant'"
     ]
    }
   ],
   "source": [
    "import restaurant \n",
    "\n",
    "restaurant_3 = restaurant.Restaurant(\"burger king\", \"fast food\")\n",
    "restaurant_3.describe_restaurant()"
   ]
  },
  {
   "cell_type": "code",
   "execution_count": 69,
   "id": "63b535e0",
   "metadata": {},
   "outputs": [
    {
     "name": "stdout",
     "output_type": "stream",
     "text": [
      "Имя: Kairat, Фамилия: Omarov\n",
      "Приветствую вас Kairat Omarov \n",
      "Имя: Valera, Фамилия: Popov\n",
      "Приветствую вас Valera Popov \n",
      "Имя: Saltanat, Фамилия: Gazizqyzy\n",
      "Приветствую вас Saltanat Gazizqyzy \n"
     ]
    }
   ],
   "source": [
    "class User():\n",
    "    def __init__(self, first_name, last_name ):\n",
    "        self.first_name = first_name\n",
    "        self.last_name = last_name\n",
    "        \n",
    "    def describe_user(self):\n",
    "        print(f\"Имя: {self.first_name}, Фамилия: {self.last_name}\")\n",
    "        \n",
    "    def greet_user(self):\n",
    "        print(f\"Приветствую вас {self.first_name} {self.last_name} \")  \n",
    "        \n",
    "person = User(\"Kairat\", \"Omarov\")\n",
    "\n",
    "person.describe_user()\n",
    "person.greet_user()\n",
    "\n",
    "person_2 = User(\"Valera\", \"Popov\")\n",
    "\n",
    "person_2.describe_user()\n",
    "person_2.greet_user()\n",
    "\n",
    "person_3 = User(\"Saltanat\", \"Gazizqyzy\")\n",
    "\n",
    "person_3.describe_user()\n",
    "person_3.greet_user()\n"
   ]
  },
  {
   "cell_type": "code",
   "execution_count": 79,
   "id": "8a191915",
   "metadata": {},
   "outputs": [
    {
     "name": "stdout",
     "output_type": "stream",
     "text": [
      "5\n",
      "0\n"
     ]
    }
   ],
   "source": [
    "class User():\n",
    "    def __init__(self, first_name, last_name, login_attempts):\n",
    "        self.first_name = first_name\n",
    "        self.last_name = last_name\n",
    "        self.login_attempts = login_attempts \n",
    "        \n",
    "    def describe_user(self):\n",
    "        print(f\"Имя: {self.first_name}, Фамилия: {self.last_name}\")\n",
    "        \n",
    "    def greet_user(self):\n",
    "        print(f\"Приветствую вас {self.first_name} {self.last_name} \")  \n",
    "        \n",
    "    def increment_login_attempts(self):\n",
    "        self.login_attempts += 1\n",
    "        \n",
    "    def reset_login_attempts(self):\n",
    "        self.login_attempts = 0\n",
    "        \n",
    "person_3 = User(\"Saltanat\", \"Gazizqyzy\", 2)\n",
    "\n",
    "person_3.increment_login_attempts()\n",
    "person_3.increment_login_attempts()\n",
    "person_3.increment_login_attempts()\n",
    "\n",
    "print(person_3.login_attempts)\n",
    "\n",
    "person_3.reset_login_attempts()\n",
    "\n",
    "print(person_3.login_attempts)"
   ]
  },
  {
   "cell_type": "code",
   "execution_count": 83,
   "id": "45f57cb3",
   "metadata": {},
   "outputs": [
    {
     "name": "stdout",
     "output_type": "stream",
     "text": [
      "Результат броска: 4\n",
      "Результат броска: 3\n",
      "Результат броска: 3\n",
      "\n",
      "Результат броска: 2\n",
      "Результат броска: 5\n",
      "\n",
      "Результат броска: 19\n",
      "Результат броска: 20\n"
     ]
    }
   ],
   "source": [
    "from random import randint\n",
    "\n",
    "class Die():\n",
    "    def __init__(self, sides):\n",
    "        self.sides = sides\n",
    "        \n",
    "    def roll_die(self):\n",
    "        answer = randint(1, self.sides)\n",
    "        print(f\"Результат броска: {answer}\")\n",
    "\n",
    "die_0 = Die(6)\n",
    "\n",
    "die_0.roll_die()\n",
    "die_0.roll_die()\n",
    "die_0.roll_die()\n",
    "print()\n",
    "die_1 = Die(10)\n",
    "\n",
    "die_1.roll_die()\n",
    "die_1.roll_die()\n",
    "print()\n",
    "die_2 = Die(20)\n",
    "\n",
    "die_2.roll_die()\n",
    "die_2.roll_die()"
   ]
  },
  {
   "cell_type": "code",
   "execution_count": null,
   "id": "b234db02",
   "metadata": {},
   "outputs": [],
   "source": []
  }
 ],
 "metadata": {
  "kernelspec": {
   "display_name": "Python 3 (ipykernel)",
   "language": "python",
   "name": "python3"
  },
  "language_info": {
   "codemirror_mode": {
    "name": "ipython",
    "version": 3
   },
   "file_extension": ".py",
   "mimetype": "text/x-python",
   "name": "python",
   "nbconvert_exporter": "python",
   "pygments_lexer": "ipython3",
   "version": "3.11.3"
  }
 },
 "nbformat": 4,
 "nbformat_minor": 5
}
