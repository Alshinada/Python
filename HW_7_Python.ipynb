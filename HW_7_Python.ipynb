{
 "cells": [
  {
   "cell_type": "code",
   "execution_count": 13,
   "id": "007366ef",
   "metadata": {},
   "outputs": [
    {
     "data": {
      "text/plain": [
       "'1.24.3'"
      ]
     },
     "execution_count": 13,
     "metadata": {},
     "output_type": "execute_result"
    },
    {
     "name": "stdout",
     "output_type": "stream",
     "text": [
      "Requirement already satisfied: numpy in c:\\users\\acer\\anaconda3\\lib\\site-packages (1.24.3)\n"
     ]
    }
   ],
   "source": [
    "import numpy\n",
    "numpy.__version__"
   ]
  },
  {
   "cell_type": "code",
   "execution_count": 12,
   "id": "c655c7c8",
   "metadata": {},
   "outputs": [
    {
     "name": "stdout",
     "output_type": "stream",
     "text": [
      "Requirement already satisfied: numpy in c:\\users\\acer\\anaconda3\\lib\\site-packages (1.24.3)\n",
      "^C\n",
      "Note: you may need to restart the kernel to use updated packages.\n"
     ]
    }
   ],
   "source": [
    "pip install numpy"
   ]
  },
  {
   "cell_type": "code",
   "execution_count": 18,
   "id": "4bd5e543",
   "metadata": {},
   "outputs": [
    {
     "name": "stdout",
     "output_type": "stream",
     "text": [
      "[10 11 12 13 14 15 16 17 18 19 20]\n"
     ]
    }
   ],
   "source": [
    "v = np.arange(10,21)\n",
    "print(v)"
   ]
  },
  {
   "cell_type": "code",
   "execution_count": 38,
   "id": "fc80fd2b",
   "metadata": {},
   "outputs": [
    {
     "name": "stdout",
     "output_type": "stream",
     "text": [
      "[20 19 18 17 16 15 14 13 12 11 10]\n"
     ]
    }
   ],
   "source": [
    "v = np.arange(21)\n",
    "v = v[21:9:-1]\n",
    "print(v)"
   ]
  },
  {
   "cell_type": "code",
   "execution_count": 44,
   "id": "34c1d83c",
   "metadata": {},
   "outputs": [
    {
     "name": "stdout",
     "output_type": "stream",
     "text": [
      "[[0 1]\n",
      " [2 3]]\n"
     ]
    }
   ],
   "source": [
    "x2 = np.arange(4).reshape(2,2)\n",
    "print(x2)"
   ]
  },
  {
   "cell_type": "code",
   "execution_count": 46,
   "id": "65aa72da",
   "metadata": {},
   "outputs": [
    {
     "name": "stdout",
     "output_type": "stream",
     "text": [
      "[[[1 9 6 1]\n",
      "  [8 5 8 8]\n",
      "  [6 8 0 7]\n",
      "  [0 4 7 4]]\n",
      "\n",
      " [[6 7 9 1]\n",
      "  [5 3 4 6]\n",
      "  [9 6 6 6]\n",
      "  [4 4 9 6]]\n",
      "\n",
      " [[7 0 1 3]\n",
      "  [5 2 8 3]\n",
      "  [9 7 8 5]\n",
      "  [1 4 4 3]]\n",
      "\n",
      " [[4 0 1 6]\n",
      "  [4 0 0 8]\n",
      "  [4 0 6 7]\n",
      "  [8 0 9 3]]]\n"
     ]
    }
   ],
   "source": [
    "x4 = np.random.randint(10, size = (4,4,4))\n",
    "print(x4)"
   ]
  },
  {
   "cell_type": "code",
   "execution_count": 94,
   "id": "4bb87996",
   "metadata": {},
   "outputs": [
    {
     "name": "stdout",
     "output_type": "stream",
     "text": [
      "[[3 7 3]\n",
      " [6 2 6]\n",
      " [3 2 4]]\n",
      "min: 0 \n",
      "max: 9 \n"
     ]
    }
   ],
   "source": [
    "x3 = np.random.randint(10, size = (3,3))\n",
    "print(x3)\n",
    "\n",
    "x3.min()\n",
    "print(f\"min: {min} \")\n",
    "\n",
    "x3.max()\n",
    "print(f\"max: {max} \")"
   ]
  },
  {
   "cell_type": "code",
   "execution_count": 76,
   "id": "344510cd",
   "metadata": {},
   "outputs": [
    {
     "name": "stdout",
     "output_type": "stream",
     "text": [
      "[[0 1 0 1 0 1 0 1]\n",
      " [1 0 1 0 1 0 1 0]\n",
      " [0 1 0 1 0 1 0 1]\n",
      " [1 0 1 0 1 0 1 0]\n",
      " [0 1 0 1 0 1 0 1]\n",
      " [1 0 1 0 1 0 1 0]\n",
      " [0 1 0 1 0 1 0 1]\n",
      " [1 0 1 0 1 0 1 0]]\n"
     ]
    }
   ],
   "source": [
    "x = np.tile(np.array([[0,1],[1,0]]), (4,4))\n",
    "print(x)"
   ]
  },
  {
   "cell_type": "code",
   "execution_count": 143,
   "id": "d6946c4a",
   "metadata": {},
   "outputs": [
    {
     "name": "stdout",
     "output_type": "stream",
     "text": [
      "[ 7  8  0 -8  1 -5  2]\n",
      "\n",
      "[7 8 0 8 1 5 2]\n",
      "\n",
      "[7 0 0 8 1 5 2]\n"
     ]
    }
   ],
   "source": [
    "x = np.random.randint(-10,10,7)\n",
    "print(x)\n",
    "\n",
    "print()\n",
    "print(abs(x))\n",
    "\n",
    "print()\n",
    "x[x.argmax()]=0\n",
    "print(abs(x))"
   ]
  },
  {
   "cell_type": "code",
   "execution_count": 158,
   "id": "ff942df3",
   "metadata": {},
   "outputs": [
    {
     "name": "stdout",
     "output_type": "stream",
     "text": [
      "[[2 7 8 6]\n",
      " [9 6 3 2]\n",
      " [0 8 9 4]\n",
      " [8 7 2 5]]\n",
      "\n",
      "[[2 7 8]\n",
      " [9 6 3]]\n",
      "\n",
      "[[2 8]\n",
      " [9 3]\n",
      " [0 9]\n",
      " [8 2]]\n"
     ]
    }
   ],
   "source": [
    "x = np.random.randint(10, size=(4,4))\n",
    "print(x)\n",
    "print()\n",
    "\n",
    "print(x[:2,:3])\n",
    "print()\n",
    "\n",
    "print(x[:4,::2])"
   ]
  },
  {
   "cell_type": "code",
   "execution_count": 169,
   "id": "a63f7ce5",
   "metadata": {},
   "outputs": [
    {
     "name": "stdout",
     "output_type": "stream",
     "text": [
      "[[9 4 8]\n",
      " [1 5 5]\n",
      " [1 5 3]]\n",
      "\n",
      "[[1 4 4]\n",
      " [9 8 9]\n",
      " [9 3 7]]\n",
      "\n",
      "[[9 4 8]\n",
      " [1 5 5]\n",
      " [1 5 3]\n",
      " [1 4 4]\n",
      " [9 8 9]\n",
      " [9 3 7]]\n",
      "\n",
      "[[9 4 8 1 4 4]\n",
      " [1 5 5 9 8 9]\n",
      " [1 5 3 9 3 7]]\n",
      "\n",
      "[[9 4 8]\n",
      " [1 5 5]\n",
      " [1 5 3]\n",
      " [1 4 4]\n",
      " [9 8 9]\n",
      " [9 3 7]]\n",
      "\n",
      "[[9 4 8 1 4 4]\n",
      " [1 5 5 9 8 9]\n",
      " [1 5 3 9 3 7]]\n"
     ]
    }
   ],
   "source": [
    "x=np.random.randint(10, size=(3,3))\n",
    "x2=np.random.randint(10, size=(3,3))\n",
    "print(x)\n",
    "print()\n",
    "\n",
    "print(x2)\n",
    "print()\n",
    "\n",
    "vert=np.concatenate([x, x2])\n",
    "print(vert)\n",
    "print()\n",
    "\n",
    "horiz=np.concatenate([x, x2], axis=1)\n",
    "print(horiz)\n",
    "print()\n",
    "\n",
    "vertikal=np.vstack([x, x2])\n",
    "print(vertikal)\n",
    "print()\n",
    "\n",
    "horizontal=np.hstack([x, x2])\n",
    "print(horizontal)"
   ]
  },
  {
   "cell_type": "code",
   "execution_count": 184,
   "id": "a9facce5",
   "metadata": {},
   "outputs": [
    {
     "name": "stdout",
     "output_type": "stream",
     "text": [
      "[[1 0 6 3 7 1]\n",
      " [6 2 7 9 0 6]\n",
      " [0 4 6 3 4 9]\n",
      " [2 3 3 9 9 5]\n",
      " [9 1 6 1 1 6]\n",
      " [8 9 6 6 8 6]]\n",
      "\n",
      "[array([[1, 0, 6, 3, 7, 1],\n",
      "       [6, 2, 7, 9, 0, 6],\n",
      "       [0, 4, 6, 3, 4, 9]]), array([[2, 3, 3, 9, 9, 5],\n",
      "       [9, 1, 6, 1, 1, 6],\n",
      "       [8, 9, 6, 6, 8, 6]])]\n",
      "\n",
      "[array([[1, 0, 6],\n",
      "       [6, 2, 7],\n",
      "       [0, 4, 6],\n",
      "       [2, 3, 3],\n",
      "       [9, 1, 6],\n",
      "       [8, 9, 6]]), array([[3, 7, 1],\n",
      "       [9, 0, 6],\n",
      "       [3, 4, 9],\n",
      "       [9, 9, 5],\n",
      "       [1, 1, 6],\n",
      "       [6, 8, 6]])]\n"
     ]
    }
   ],
   "source": [
    "a=np.random.randint(10, size=(6,6))\n",
    "print(a)\n",
    "print()\n",
    "\n",
    "b=np.vsplit(a,2)\n",
    "print(b)\n",
    "print()\n",
    "\n",
    "c=np.hsplit(a,2)\n",
    "print(c)\n"
   ]
  },
  {
   "cell_type": "code",
   "execution_count": null,
   "id": "c1a72f8c",
   "metadata": {},
   "outputs": [],
   "source": []
  }
 ],
 "metadata": {
  "kernelspec": {
   "display_name": "Python 3 (ipykernel)",
   "language": "python",
   "name": "python3"
  },
  "language_info": {
   "codemirror_mode": {
    "name": "ipython",
    "version": 3
   },
   "file_extension": ".py",
   "mimetype": "text/x-python",
   "name": "python",
   "nbconvert_exporter": "python",
   "pygments_lexer": "ipython3",
   "version": "3.11.3"
  }
 },
 "nbformat": 4,
 "nbformat_minor": 5
}
